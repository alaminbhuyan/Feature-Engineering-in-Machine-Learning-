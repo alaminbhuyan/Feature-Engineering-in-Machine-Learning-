{
 "cells": [
  {
   "cell_type": "markdown",
   "metadata": {
    "id": "soYX_6ZJeim0"
   },
   "source": [
    "# **Outlier detection and removal using z-score and standard deviation in python pandas**"
   ]
  },
  {
   "cell_type": "code",
   "execution_count": 1,
   "metadata": {
    "executionInfo": {
     "elapsed": 1689,
     "status": "ok",
     "timestamp": 1610256084345,
     "user": {
      "displayName": "Al Amin",
      "photoUrl": "https://lh3.googleusercontent.com/a-/AOh14GiMB6CqgQqINGrgkLYU8ftIloMfHO5LgiFZgCAUSg=s64",
      "userId": "17120997331533597303"
     },
     "user_tz": -360
    },
    "id": "PBJP25YXd7-C"
   },
   "outputs": [],
   "source": [
    "import pandas as pd\n",
    "import numpy as np\n",
    "import matplotlib.pyplot as plt\n",
    "import seaborn as sns"
   ]
  },
  {
   "cell_type": "code",
   "execution_count": 2,
   "metadata": {
    "colab": {
     "base_uri": "https://localhost:8080/",
     "height": 204
    },
    "executionInfo": {
     "elapsed": 3581,
     "status": "ok",
     "timestamp": 1610256086282,
     "user": {
      "displayName": "Al Amin",
      "photoUrl": "https://lh3.googleusercontent.com/a-/AOh14GiMB6CqgQqINGrgkLYU8ftIloMfHO5LgiFZgCAUSg=s64",
      "userId": "17120997331533597303"
     },
     "user_tz": -360
    },
    "id": "bDLpSX0JeugQ",
    "outputId": "0996560f-d12e-4509-e448-1e1ab5975b8d"
   },
   "outputs": [
    {
     "data": {
      "text/html": [
       "<div>\n",
       "<style scoped>\n",
       "    .dataframe tbody tr th:only-of-type {\n",
       "        vertical-align: middle;\n",
       "    }\n",
       "\n",
       "    .dataframe tbody tr th {\n",
       "        vertical-align: top;\n",
       "    }\n",
       "\n",
       "    .dataframe thead th {\n",
       "        text-align: right;\n",
       "    }\n",
       "</style>\n",
       "<table border=\"1\" class=\"dataframe\">\n",
       "  <thead>\n",
       "    <tr style=\"text-align: right;\">\n",
       "      <th></th>\n",
       "      <th>gender</th>\n",
       "      <th>height</th>\n",
       "    </tr>\n",
       "  </thead>\n",
       "  <tbody>\n",
       "    <tr>\n",
       "      <th>0</th>\n",
       "      <td>Male</td>\n",
       "      <td>73.847017</td>\n",
       "    </tr>\n",
       "    <tr>\n",
       "      <th>1</th>\n",
       "      <td>Male</td>\n",
       "      <td>68.781904</td>\n",
       "    </tr>\n",
       "    <tr>\n",
       "      <th>2</th>\n",
       "      <td>Male</td>\n",
       "      <td>74.110105</td>\n",
       "    </tr>\n",
       "    <tr>\n",
       "      <th>3</th>\n",
       "      <td>Male</td>\n",
       "      <td>71.730978</td>\n",
       "    </tr>\n",
       "    <tr>\n",
       "      <th>4</th>\n",
       "      <td>Male</td>\n",
       "      <td>69.881796</td>\n",
       "    </tr>\n",
       "  </tbody>\n",
       "</table>\n",
       "</div>"
      ],
      "text/plain": [
       "  gender     height\n",
       "0   Male  73.847017\n",
       "1   Male  68.781904\n",
       "2   Male  74.110105\n",
       "3   Male  71.730978\n",
       "4   Male  69.881796"
      ]
     },
     "execution_count": 2,
     "metadata": {
      "tags": []
     },
     "output_type": "execute_result"
    }
   ],
   "source": [
    "df = pd.read_csv(\"/content/drive/MyDrive/Machine Learning/Supervised Learning/Some Important Topic for Machine Learning/Features Engineering /Outliers find/height.csv\")\n",
    "df.head()"
   ]
  },
  {
   "cell_type": "code",
   "execution_count": 3,
   "metadata": {
    "colab": {
     "base_uri": "https://localhost:8080/",
     "height": 204
    },
    "executionInfo": {
     "elapsed": 3556,
     "status": "ok",
     "timestamp": 1610256086284,
     "user": {
      "displayName": "Al Amin",
      "photoUrl": "https://lh3.googleusercontent.com/a-/AOh14GiMB6CqgQqINGrgkLYU8ftIloMfHO5LgiFZgCAUSg=s64",
      "userId": "17120997331533597303"
     },
     "user_tz": -360
    },
    "id": "WoIhoc1sfO2G",
    "outputId": "64daa9b4-5236-49f2-b95a-0c6cbbf15016"
   },
   "outputs": [
    {
     "data": {
      "text/html": [
       "<div>\n",
       "<style scoped>\n",
       "    .dataframe tbody tr th:only-of-type {\n",
       "        vertical-align: middle;\n",
       "    }\n",
       "\n",
       "    .dataframe tbody tr th {\n",
       "        vertical-align: top;\n",
       "    }\n",
       "\n",
       "    .dataframe thead th {\n",
       "        text-align: right;\n",
       "    }\n",
       "</style>\n",
       "<table border=\"1\" class=\"dataframe\">\n",
       "  <thead>\n",
       "    <tr style=\"text-align: right;\">\n",
       "      <th></th>\n",
       "      <th>gender</th>\n",
       "      <th>height</th>\n",
       "    </tr>\n",
       "  </thead>\n",
       "  <tbody>\n",
       "    <tr>\n",
       "      <th>6070</th>\n",
       "      <td>Female</td>\n",
       "      <td>62.302497</td>\n",
       "    </tr>\n",
       "    <tr>\n",
       "      <th>1312</th>\n",
       "      <td>Male</td>\n",
       "      <td>66.097576</td>\n",
       "    </tr>\n",
       "    <tr>\n",
       "      <th>1228</th>\n",
       "      <td>Male</td>\n",
       "      <td>72.881092</td>\n",
       "    </tr>\n",
       "    <tr>\n",
       "      <th>2139</th>\n",
       "      <td>Male</td>\n",
       "      <td>68.963534</td>\n",
       "    </tr>\n",
       "    <tr>\n",
       "      <th>793</th>\n",
       "      <td>Male</td>\n",
       "      <td>71.206619</td>\n",
       "    </tr>\n",
       "  </tbody>\n",
       "</table>\n",
       "</div>"
      ],
      "text/plain": [
       "      gender     height\n",
       "6070  Female  62.302497\n",
       "1312    Male  66.097576\n",
       "1228    Male  72.881092\n",
       "2139    Male  68.963534\n",
       "793     Male  71.206619"
      ]
     },
     "execution_count": 3,
     "metadata": {
      "tags": []
     },
     "output_type": "execute_result"
    }
   ],
   "source": [
    "df.sample(5)"
   ]
  },
  {
   "cell_type": "code",
   "execution_count": 4,
   "metadata": {
    "colab": {
     "base_uri": "https://localhost:8080/",
     "height": 497
    },
    "executionInfo": {
     "elapsed": 3998,
     "status": "ok",
     "timestamp": 1610256086754,
     "user": {
      "displayName": "Al Amin",
      "photoUrl": "https://lh3.googleusercontent.com/a-/AOh14GiMB6CqgQqINGrgkLYU8ftIloMfHO5LgiFZgCAUSg=s64",
      "userId": "17120997331533597303"
     },
     "user_tz": -360
    },
    "id": "pbQgZ2sWfco1",
    "outputId": "93cbb2ce-cde2-47a9-f102-8fc8da9244a8"
   },
   "outputs": [
    {
     "data": {
      "image/png": "[encoded data removed]",
      "text/plain": [
       "<Figure size 720x576 with 1 Axes>"
      ]
     },
     "metadata": {
      "needs_background": "light",
      "tags": []
     },
     "output_type": "display_data"
    }
   ],
   "source": [
    "plt.figure(figsize=(10,8))\n",
    "plt.hist(x=df.height,bins=20,rwidth=0.8)\n",
    "plt.xlabel(\"Height(inches)\")\n",
    "plt.ylabel(\"Count\")\n",
    "plt.show()"
   ]
  },
  {
   "cell_type": "code",
   "execution_count": 5,
   "metadata": {
    "colab": {
     "base_uri": "https://localhost:8080/",
     "height": 497
    },
    "executionInfo": {
     "elapsed": 4704,
     "status": "ok",
     "timestamp": 1610256087486,
     "user": {
      "displayName": "Al Amin",
      "photoUrl": "https://lh3.googleusercontent.com/a-/AOh14GiMB6CqgQqINGrgkLYU8ftIloMfHO5LgiFZgCAUSg=s64",
      "userId": "17120997331533597303"
     },
     "user_tz": -360
    },
    "id": "UPKwKuwShNog",
    "outputId": "66ed176d-69f7-4082-c223-3a874f941c39"
   },
   "outputs": [
    {
     "data": {
      "image/png": "[encoded data removed]",
      "text/plain": [
       "<Figure size 720x576 with 1 Axes>"
      ]
     },
     "metadata": {
      "needs_background": "light",
      "tags": []
     },
     "output_type": "display_data"
    }
   ],
   "source": [
    "plt.figure(figsize=(10,8))\n",
    "sns.histplot(x=df.height,bins=20,kde=True)\n",
    "plt.show()"
   ]
  },
  {
   "cell_type": "code",
   "execution_count": 6,
   "metadata": {
    "colab": {
     "base_uri": "https://localhost:8080/",
     "height": 497
    },
    "executionInfo": {
     "elapsed": 4680,
     "status": "ok",
     "timestamp": 1610256087490,
     "user": {
      "displayName": "Al Amin",
      "photoUrl": "https://lh3.googleusercontent.com/a-/AOh14GiMB6CqgQqINGrgkLYU8ftIloMfHO5LgiFZgCAUSg=s64",
      "userId": "17120997331533597303"
     },
     "user_tz": -360
    },
    "id": "6CuMgU72hiuX",
    "outputId": "d7972c6a-430a-49db-ee7d-64cf8f77f94d"
   },
   "outputs": [
    {
     "data": {
      "image/png": "[encoded data removed]",
      "text/plain": [
       "<Figure size 720x576 with 1 Axes>"
      ]
     },
     "metadata": {
      "needs_background": "light",
      "tags": []
     },
     "output_type": "display_data"
    }
   ],
   "source": [
    "from scipy.stats import norm\n",
    "plt.figure(figsize=(10,8))\n",
    "plt.hist(df.height, bins=20, rwidth=0.8, density=True)\n",
    "plt.xlabel('Height (inches)')\n",
    "plt.ylabel('Count')\n",
    "rng = np.arange(df.height.min(), df.height.max(), 0.1)\n",
    "plt.plot(rng, norm.pdf(rng,df.height.mean(),df.height.std()))\n",
    "plt.show()"
   ]
  },
  {
   "cell_type": "code",
   "execution_count": 7,
   "metadata": {
    "colab": {
     "base_uri": "https://localhost:8080/",
     "height": 503
    },
    "executionInfo": {
     "elapsed": 5474,
     "status": "ok",
     "timestamp": 1610256088312,
     "user": {
      "displayName": "Al Amin",
      "photoUrl": "https://lh3.googleusercontent.com/a-/AOh14GiMB6CqgQqINGrgkLYU8ftIloMfHO5LgiFZgCAUSg=s64",
      "userId": "17120997331533597303"
     },
     "user_tz": -360
    },
    "id": "sqoD1cm8utVr",
    "outputId": "95e718f1-f473-45cd-da6c-f2f891455629"
   },
   "outputs": [
    {
     "data": {
      "image/png": "[encoded data removed]",
      "text/plain": [
       "<Figure size 720x576 with 1 Axes>"
      ]
     },
     "metadata": {
      "needs_background": "light",
      "tags": []
     },
     "output_type": "display_data"
    }
   ],
   "source": [
    "plt.figure(figsize=(10,8))\n",
    "sns.set_theme(style=\"whitegrid\")\n",
    "sns.boxplot(x='gender',y='height',data=df)\n",
    "plt.show()"
   ]
  },
  {
   "cell_type": "code",
   "execution_count": 8,
   "metadata": {
    "colab": {
     "base_uri": "https://localhost:8080/",
     "height": 297
    },
    "executionInfo": {
     "elapsed": 5447,
     "status": "ok",
     "timestamp": 1610256088314,
     "user": {
      "displayName": "Al Amin",
      "photoUrl": "https://lh3.googleusercontent.com/a-/AOh14GiMB6CqgQqINGrgkLYU8ftIloMfHO5LgiFZgCAUSg=s64",
      "userId": "17120997331533597303"
     },
     "user_tz": -360
    },
    "id": "GCz1fODzh6N6",
    "outputId": "72420c9b-d758-46a0-f9a3-4b1d868bfb62"
   },
   "outputs": [
    {
     "data": {
      "text/html": [
       "<div>\n",
       "<style scoped>\n",
       "    .dataframe tbody tr th:only-of-type {\n",
       "        vertical-align: middle;\n",
       "    }\n",
       "\n",
       "    .dataframe tbody tr th {\n",
       "        vertical-align: top;\n",
       "    }\n",
       "\n",
       "    .dataframe thead th {\n",
       "        text-align: right;\n",
       "    }\n",
       "</style>\n",
       "<table border=\"1\" class=\"dataframe\">\n",
       "  <thead>\n",
       "    <tr style=\"text-align: right;\">\n",
       "      <th></th>\n",
       "      <th>height</th>\n",
       "    </tr>\n",
       "  </thead>\n",
       "  <tbody>\n",
       "    <tr>\n",
       "      <th>count</th>\n",
       "      <td>10000.000000</td>\n",
       "    </tr>\n",
       "    <tr>\n",
       "      <th>mean</th>\n",
       "      <td>66.367560</td>\n",
       "    </tr>\n",
       "    <tr>\n",
       "      <th>std</th>\n",
       "      <td>3.847528</td>\n",
       "    </tr>\n",
       "    <tr>\n",
       "      <th>min</th>\n",
       "      <td>54.263133</td>\n",
       "    </tr>\n",
       "    <tr>\n",
       "      <th>25%</th>\n",
       "      <td>63.505620</td>\n",
       "    </tr>\n",
       "    <tr>\n",
       "      <th>50%</th>\n",
       "      <td>66.318070</td>\n",
       "    </tr>\n",
       "    <tr>\n",
       "      <th>75%</th>\n",
       "      <td>69.174262</td>\n",
       "    </tr>\n",
       "    <tr>\n",
       "      <th>max</th>\n",
       "      <td>78.998742</td>\n",
       "    </tr>\n",
       "  </tbody>\n",
       "</table>\n",
       "</div>"
      ],
      "text/plain": [
       "             height\n",
       "count  10000.000000\n",
       "mean      66.367560\n",
       "std        3.847528\n",
       "min       54.263133\n",
       "25%       63.505620\n",
       "50%       66.318070\n",
       "75%       69.174262\n",
       "max       78.998742"
      ]
     },
     "execution_count": 8,
     "metadata": {
      "tags": []
     },
     "output_type": "execute_result"
    }
   ],
   "source": [
    "df.describe()"
   ]
  },
  {
   "cell_type": "code",
   "execution_count": 9,
   "metadata": {
    "colab": {
     "base_uri": "https://localhost:8080/"
    },
    "executionInfo": {
     "elapsed": 5426,
     "status": "ok",
     "timestamp": 1610256088316,
     "user": {
      "displayName": "Al Amin",
      "photoUrl": "https://lh3.googleusercontent.com/a-/AOh14GiMB6CqgQqINGrgkLYU8ftIloMfHO5LgiFZgCAUSg=s64",
      "userId": "17120997331533597303"
     },
     "user_tz": -360
    },
    "id": "296N6vk7iFys",
    "outputId": "7d34367c-df06-475a-8083-565baf23fed0"
   },
   "outputs": [
    {
     "data": {
      "text/plain": [
       "count    10000.000000\n",
       "mean        66.367560\n",
       "std          3.847528\n",
       "min         54.263133\n",
       "25%         63.505620\n",
       "50%         66.318070\n",
       "75%         69.174262\n",
       "max         78.998742\n",
       "Name: height, dtype: float64"
      ]
     },
     "execution_count": 9,
     "metadata": {
      "tags": []
     },
     "output_type": "execute_result"
    }
   ],
   "source": [
    "df.height.describe()"
   ]
  },
  {
   "cell_type": "code",
   "execution_count": 10,
   "metadata": {
    "colab": {
     "base_uri": "https://localhost:8080/"
    },
    "executionInfo": {
     "elapsed": 5403,
     "status": "ok",
     "timestamp": 1610256088318,
     "user": {
      "displayName": "Al Amin",
      "photoUrl": "https://lh3.googleusercontent.com/a-/AOh14GiMB6CqgQqINGrgkLYU8ftIloMfHO5LgiFZgCAUSg=s64",
      "userId": "17120997331533597303"
     },
     "user_tz": -360
    },
    "id": "wSQkLaALiJAb",
    "outputId": "cdcd1bc8-2c29-46f5-ab1a-2e2fe0690090"
   },
   "outputs": [
    {
     "data": {
      "text/plain": [
       "66.3675597548656"
      ]
     },
     "execution_count": 10,
     "metadata": {
      "tags": []
     },
     "output_type": "execute_result"
    }
   ],
   "source": [
    "df.height.mean()"
   ]
  },
  {
   "cell_type": "code",
   "execution_count": 11,
   "metadata": {
    "colab": {
     "base_uri": "https://localhost:8080/"
    },
    "executionInfo": {
     "elapsed": 5383,
     "status": "ok",
     "timestamp": 1610256088322,
     "user": {
      "displayName": "Al Amin",
      "photoUrl": "https://lh3.googleusercontent.com/a-/AOh14GiMB6CqgQqINGrgkLYU8ftIloMfHO5LgiFZgCAUSg=s64",
      "userId": "17120997331533597303"
     },
     "user_tz": -360
    },
    "id": "67xIcIFLiLwM",
    "outputId": "a0c2580b-5bba-4deb-eeea-88f1be671e54"
   },
   "outputs": [
    {
     "data": {
      "text/plain": [
       "3.847528120795573"
      ]
     },
     "execution_count": 11,
     "metadata": {
      "tags": []
     },
     "output_type": "execute_result"
    }
   ],
   "source": [
    "df.height.std()"
   ]
  },
  {
   "cell_type": "markdown",
   "metadata": {
    "id": "bv16MMy2iaUT"
   },
   "source": [
    "# Here the mean is 66.37 and standard deviation is 3.84.\n",
    "\n",
    "### (1) Outlier detection and removal using 3 standard deviation\n",
    "One of the ways we can remove outliers is remove any data points that are beyond 3 standard deviation from mean. Which means we can come up with following upper and lower bounds"
   ]
  },
  {
   "cell_type": "code",
   "execution_count": 12,
   "metadata": {
    "colab": {
     "base_uri": "https://localhost:8080/"
    },
    "executionInfo": {
     "elapsed": 5363,
     "status": "ok",
     "timestamp": 1610256088325,
     "user": {
      "displayName": "Al Amin",
      "photoUrl": "https://lh3.googleusercontent.com/a-/AOh14GiMB6CqgQqINGrgkLYU8ftIloMfHO5LgiFZgCAUSg=s64",
      "userId": "17120997331533597303"
     },
     "user_tz": -360
    },
    "id": "DZJ0UDgjiN1U",
    "outputId": "a1ae2925-e66e-4e34-fa5e-4be59d880334"
   },
   "outputs": [
    {
     "data": {
      "text/plain": [
       "77.91014411725232"
      ]
     },
     "execution_count": 12,
     "metadata": {
      "tags": []
     },
     "output_type": "execute_result"
    }
   ],
   "source": [
    "upper_limit = df.height.mean() + 3*df.height.std()\n",
    "upper_limit"
   ]
  },
  {
   "cell_type": "code",
   "execution_count": 13,
   "metadata": {
    "colab": {
     "base_uri": "https://localhost:8080/"
    },
    "executionInfo": {
     "elapsed": 5346,
     "status": "ok",
     "timestamp": 1610256088328,
     "user": {
      "displayName": "Al Amin",
      "photoUrl": "https://lh3.googleusercontent.com/a-/AOh14GiMB6CqgQqINGrgkLYU8ftIloMfHO5LgiFZgCAUSg=s64",
      "userId": "17120997331533597303"
     },
     "user_tz": -360
    },
    "id": "nXyo_S_xivFx",
    "outputId": "2a96ed12-7c1f-48c2-be8c-3f56a412446c"
   },
   "outputs": [
    {
     "data": {
      "text/plain": [
       "54.824975392478876"
      ]
     },
     "execution_count": 13,
     "metadata": {
      "tags": []
     },
     "output_type": "execute_result"
    }
   ],
   "source": [
    "lower_limit = df.height.mean() - 3*df.height.std()\n",
    "lower_limit"
   ]
  },
  {
   "cell_type": "markdown",
   "metadata": {
    "id": "CugHO5tdjGF8"
   },
   "source": [
    "## Here are the outliers that are beyond 3 std deviation from mean"
   ]
  },
  {
   "cell_type": "code",
   "execution_count": 14,
   "metadata": {
    "colab": {
     "base_uri": "https://localhost:8080/",
     "height": 266
    },
    "executionInfo": {
     "elapsed": 5324,
     "status": "ok",
     "timestamp": 1610256088330,
     "user": {
      "displayName": "Al Amin",
      "photoUrl": "https://lh3.googleusercontent.com/a-/AOh14GiMB6CqgQqINGrgkLYU8ftIloMfHO5LgiFZgCAUSg=s64",
      "userId": "17120997331533597303"
     },
     "user_tz": -360
    },
    "id": "HvmfN3XHi3nR",
    "outputId": "68062a97-c292-47d2-85dc-f83e12eefc2a"
   },
   "outputs": [
    {
     "data": {
      "text/html": [
       "<div>\n",
       "<style scoped>\n",
       "    .dataframe tbody tr th:only-of-type {\n",
       "        vertical-align: middle;\n",
       "    }\n",
       "\n",
       "    .dataframe tbody tr th {\n",
       "        vertical-align: top;\n",
       "    }\n",
       "\n",
       "    .dataframe thead th {\n",
       "        text-align: right;\n",
       "    }\n",
       "</style>\n",
       "<table border=\"1\" class=\"dataframe\">\n",
       "  <thead>\n",
       "    <tr style=\"text-align: right;\">\n",
       "      <th></th>\n",
       "      <th>gender</th>\n",
       "      <th>height</th>\n",
       "    </tr>\n",
       "  </thead>\n",
       "  <tbody>\n",
       "    <tr>\n",
       "      <th>994</th>\n",
       "      <td>Male</td>\n",
       "      <td>78.095867</td>\n",
       "    </tr>\n",
       "    <tr>\n",
       "      <th>1317</th>\n",
       "      <td>Male</td>\n",
       "      <td>78.462053</td>\n",
       "    </tr>\n",
       "    <tr>\n",
       "      <th>2014</th>\n",
       "      <td>Male</td>\n",
       "      <td>78.998742</td>\n",
       "    </tr>\n",
       "    <tr>\n",
       "      <th>3285</th>\n",
       "      <td>Male</td>\n",
       "      <td>78.528210</td>\n",
       "    </tr>\n",
       "    <tr>\n",
       "      <th>3757</th>\n",
       "      <td>Male</td>\n",
       "      <td>78.621374</td>\n",
       "    </tr>\n",
       "    <tr>\n",
       "      <th>6624</th>\n",
       "      <td>Female</td>\n",
       "      <td>54.616858</td>\n",
       "    </tr>\n",
       "    <tr>\n",
       "      <th>9285</th>\n",
       "      <td>Female</td>\n",
       "      <td>54.263133</td>\n",
       "    </tr>\n",
       "  </tbody>\n",
       "</table>\n",
       "</div>"
      ],
      "text/plain": [
       "      gender     height\n",
       "994     Male  78.095867\n",
       "1317    Male  78.462053\n",
       "2014    Male  78.998742\n",
       "3285    Male  78.528210\n",
       "3757    Male  78.621374\n",
       "6624  Female  54.616858\n",
       "9285  Female  54.263133"
      ]
     },
     "execution_count": 14,
     "metadata": {
      "tags": []
     },
     "output_type": "execute_result"
    }
   ],
   "source": [
    "df[(df.height>upper_limit) | (df.height<lower_limit)]"
   ]
  },
  {
   "cell_type": "markdown",
   "metadata": {
    "id": "OGoPE4Snji1W"
   },
   "source": [
    "### Above the heights on higher end is 78 inch which is around 6 ft 6 inch. Now that is quite unusual height. There are people who have this height but it is very uncommon and it is ok if you remove those data points. Similarly on lower end it is 54 inch which is around 4 ft 6 inch. While this is also a legitimate height you don't find many people having this height so it is safe to consider both of these cases as outliers\n",
    "\n",
    "## Now remove these outliers and generate new dataframe"
   ]
  },
  {
   "cell_type": "code",
   "execution_count": 15,
   "metadata": {
    "colab": {
     "base_uri": "https://localhost:8080/",
     "height": 204
    },
    "executionInfo": {
     "elapsed": 5298,
     "status": "ok",
     "timestamp": 1610256088332,
     "user": {
      "displayName": "Al Amin",
      "photoUrl": "https://lh3.googleusercontent.com/a-/AOh14GiMB6CqgQqINGrgkLYU8ftIloMfHO5LgiFZgCAUSg=s64",
      "userId": "17120997331533597303"
     },
     "user_tz": -360
    },
    "id": "yp9x_QTijO0l",
    "outputId": "ea264aed-8db1-47b7-fe06-9da4344ebb9e"
   },
   "outputs": [
    {
     "data": {
      "text/html": [
       "<div>\n",
       "<style scoped>\n",
       "    .dataframe tbody tr th:only-of-type {\n",
       "        vertical-align: middle;\n",
       "    }\n",
       "\n",
       "    .dataframe tbody tr th {\n",
       "        vertical-align: top;\n",
       "    }\n",
       "\n",
       "    .dataframe thead th {\n",
       "        text-align: right;\n",
       "    }\n",
       "</style>\n",
       "<table border=\"1\" class=\"dataframe\">\n",
       "  <thead>\n",
       "    <tr style=\"text-align: right;\">\n",
       "      <th></th>\n",
       "      <th>gender</th>\n",
       "      <th>height</th>\n",
       "    </tr>\n",
       "  </thead>\n",
       "  <tbody>\n",
       "    <tr>\n",
       "      <th>0</th>\n",
       "      <td>Male</td>\n",
       "      <td>73.847017</td>\n",
       "    </tr>\n",
       "    <tr>\n",
       "      <th>1</th>\n",
       "      <td>Male</td>\n",
       "      <td>68.781904</td>\n",
       "    </tr>\n",
       "    <tr>\n",
       "      <th>2</th>\n",
       "      <td>Male</td>\n",
       "      <td>74.110105</td>\n",
       "    </tr>\n",
       "    <tr>\n",
       "      <th>3</th>\n",
       "      <td>Male</td>\n",
       "      <td>71.730978</td>\n",
       "    </tr>\n",
       "    <tr>\n",
       "      <th>4</th>\n",
       "      <td>Male</td>\n",
       "      <td>69.881796</td>\n",
       "    </tr>\n",
       "  </tbody>\n",
       "</table>\n",
       "</div>"
      ],
      "text/plain": [
       "  gender     height\n",
       "0   Male  73.847017\n",
       "1   Male  68.781904\n",
       "2   Male  74.110105\n",
       "3   Male  71.730978\n",
       "4   Male  69.881796"
      ]
     },
     "execution_count": 15,
     "metadata": {
      "tags": []
     },
     "output_type": "execute_result"
    }
   ],
   "source": [
    "df_no_outlier_std = df[(df.height>lower_limit) & (df.height<upper_limit)]\n",
    "df_no_outlier_std.head()"
   ]
  },
  {
   "cell_type": "code",
   "execution_count": 16,
   "metadata": {
    "colab": {
     "base_uri": "https://localhost:8080/"
    },
    "executionInfo": {
     "elapsed": 5278,
     "status": "ok",
     "timestamp": 1610256088334,
     "user": {
      "displayName": "Al Amin",
      "photoUrl": "https://lh3.googleusercontent.com/a-/AOh14GiMB6CqgQqINGrgkLYU8ftIloMfHO5LgiFZgCAUSg=s64",
      "userId": "17120997331533597303"
     },
     "user_tz": -360
    },
    "id": "diJmJJhWj8G1",
    "outputId": "decc291b-795f-4284-d201-1f72a39e91be"
   },
   "outputs": [
    {
     "data": {
      "text/plain": [
       "(9993, 2)"
      ]
     },
     "execution_count": 16,
     "metadata": {
      "tags": []
     },
     "output_type": "execute_result"
    }
   ],
   "source": [
    "df_no_outlier_std.shape"
   ]
  },
  {
   "cell_type": "code",
   "execution_count": 17,
   "metadata": {
    "colab": {
     "base_uri": "https://localhost:8080/"
    },
    "executionInfo": {
     "elapsed": 5258,
     "status": "ok",
     "timestamp": 1610256088336,
     "user": {
      "displayName": "Al Amin",
      "photoUrl": "https://lh3.googleusercontent.com/a-/AOh14GiMB6CqgQqINGrgkLYU8ftIloMfHO5LgiFZgCAUSg=s64",
      "userId": "17120997331533597303"
     },
     "user_tz": -360
    },
    "id": "iNMJ68LkkBhD",
    "outputId": "7b8fd275-c744-49cc-88ce-9c5a0da4f04e"
   },
   "outputs": [
    {
     "data": {
      "text/plain": [
       "7"
      ]
     },
     "execution_count": 17,
     "metadata": {
      "tags": []
     },
     "output_type": "execute_result"
    }
   ],
   "source": [
    "# 7 outliers gone\n",
    "df.shape[0] - df_no_outlier_std.shape[0]"
   ]
  },
  {
   "cell_type": "code",
   "execution_count": 18,
   "metadata": {
    "colab": {
     "base_uri": "https://localhost:8080/",
     "height": 502
    },
    "executionInfo": {
     "elapsed": 5238,
     "status": "ok",
     "timestamp": 1610256088340,
     "user": {
      "displayName": "Al Amin",
      "photoUrl": "https://lh3.googleusercontent.com/a-/AOh14GiMB6CqgQqINGrgkLYU8ftIloMfHO5LgiFZgCAUSg=s64",
      "userId": "17120997331533597303"
     },
     "user_tz": -360
    },
    "id": "Da7GzyqZyHlL",
    "outputId": "124ffa86-3f99-4163-ee8c-c3c97a0e4162"
   },
   "outputs": [
    {
     "data": {
      "image/png": "[encoded data removed]",
      "text/plain": [
       "<Figure size 720x576 with 1 Axes>"
      ]
     },
     "metadata": {
      "tags": []
     },
     "output_type": "display_data"
    }
   ],
   "source": [
    "# After remove outliers using standard deviation\n",
    "plt.figure(figsize=(10,8))\n",
    "sns.boxplot(x='gender',y='height',data=df_no_outlier_std)\n",
    "plt.show()"
   ]
  },
  {
   "cell_type": "markdown",
   "metadata": {
    "id": "rMDqcPqokv96"
   },
   "source": [
    "<h3 style='color:blue'>(2) Outlier detection and removal using Z Score</h3>"
   ]
  },
  {
   "cell_type": "markdown",
   "metadata": {
    "id": "GLSIphtmk6JA"
   },
   "source": [
    "### **Z score is a way to achieve same thing that we did above in part (1)**"
   ]
  },
  {
   "cell_type": "markdown",
   "metadata": {
    "id": "ejUg39Exk-3P"
   },
   "source": [
    "**Z score indicates how many standard deviation away a data point is.**\n",
    "\n",
    "For example in our case mean is 66.37 and standard deviation is 3.84. \n",
    "\n",
    "If a value of a data point is 77.91 then Z score for that is 3 because it is 3 standard deviation away (77.91 = 66.37 + 3 * 3.84)"
   ]
  },
  {
   "cell_type": "markdown",
   "metadata": {
    "id": "FrYhUusIlEbQ"
   },
   "source": [
    "![zscore.png](data:image/png;base64,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)"
   ]
  },
  {
   "cell_type": "code",
   "execution_count": 19,
   "metadata": {
    "colab": {
     "base_uri": "https://localhost:8080/",
     "height": 204
    },
    "executionInfo": {
     "elapsed": 5214,
     "status": "ok",
     "timestamp": 1610256088341,
     "user": {
      "displayName": "Al Amin",
      "photoUrl": "https://lh3.googleusercontent.com/a-/AOh14GiMB6CqgQqINGrgkLYU8ftIloMfHO5LgiFZgCAUSg=s64",
      "userId": "17120997331533597303"
     },
     "user_tz": -360
    },
    "id": "730Um-3skKKl",
    "outputId": "3e8e3cba-94c9-4212-942b-e006f9633862"
   },
   "outputs": [
    {
     "data": {
      "text/html": [
       "<div>\n",
       "<style scoped>\n",
       "    .dataframe tbody tr th:only-of-type {\n",
       "        vertical-align: middle;\n",
       "    }\n",
       "\n",
       "    .dataframe tbody tr th {\n",
       "        vertical-align: top;\n",
       "    }\n",
       "\n",
       "    .dataframe thead th {\n",
       "        text-align: right;\n",
       "    }\n",
       "</style>\n",
       "<table border=\"1\" class=\"dataframe\">\n",
       "  <thead>\n",
       "    <tr style=\"text-align: right;\">\n",
       "      <th></th>\n",
       "      <th>gender</th>\n",
       "      <th>height</th>\n",
       "      <th>z-score</th>\n",
       "    </tr>\n",
       "  </thead>\n",
       "  <tbody>\n",
       "    <tr>\n",
       "      <th>0</th>\n",
       "      <td>Male</td>\n",
       "      <td>73.847017</td>\n",
       "      <td>1.943964</td>\n",
       "    </tr>\n",
       "    <tr>\n",
       "      <th>1</th>\n",
       "      <td>Male</td>\n",
       "      <td>68.781904</td>\n",
       "      <td>0.627505</td>\n",
       "    </tr>\n",
       "    <tr>\n",
       "      <th>2</th>\n",
       "      <td>Male</td>\n",
       "      <td>74.110105</td>\n",
       "      <td>2.012343</td>\n",
       "    </tr>\n",
       "    <tr>\n",
       "      <th>3</th>\n",
       "      <td>Male</td>\n",
       "      <td>71.730978</td>\n",
       "      <td>1.393991</td>\n",
       "    </tr>\n",
       "    <tr>\n",
       "      <th>4</th>\n",
       "      <td>Male</td>\n",
       "      <td>69.881796</td>\n",
       "      <td>0.913375</td>\n",
       "    </tr>\n",
       "  </tbody>\n",
       "</table>\n",
       "</div>"
      ],
      "text/plain": [
       "  gender     height   z-score\n",
       "0   Male  73.847017  1.943964\n",
       "1   Male  68.781904  0.627505\n",
       "2   Male  74.110105  2.012343\n",
       "3   Male  71.730978  1.393991\n",
       "4   Male  69.881796  0.913375"
      ]
     },
     "execution_count": 19,
     "metadata": {
      "tags": []
     },
     "output_type": "execute_result"
    }
   ],
   "source": [
    "# create z-score value for each row\n",
    "df['z-score'] = (df.height-df.height.mean())/df.height.std()\n",
    "df.head()"
   ]
  },
  {
   "cell_type": "markdown",
   "metadata": {
    "id": "EcYwfzAul8eM"
   },
   "source": [
    "### **Above for first record with height 73.84, z score is 1.94. This means 73.84 is 1.94 standard deviation away from mean**"
   ]
  },
  {
   "cell_type": "markdown",
   "metadata": {
    "id": "NUq7O9rlmJzg"
   },
   "source": [
    "### **Get data points that has z score higher than 3 or lower than -3. Another way of saying same thing is get data points that are more than 3 standard deviation away**"
   ]
  },
  {
   "cell_type": "code",
   "execution_count": 20,
   "metadata": {
    "colab": {
     "base_uri": "https://localhost:8080/",
     "height": 204
    },
    "executionInfo": {
     "elapsed": 5187,
     "status": "ok",
     "timestamp": 1610256088343,
     "user": {
      "displayName": "Al Amin",
      "photoUrl": "https://lh3.googleusercontent.com/a-/AOh14GiMB6CqgQqINGrgkLYU8ftIloMfHO5LgiFZgCAUSg=s64",
      "userId": "17120997331533597303"
     },
     "user_tz": -360
    },
    "id": "mXV1NN8jl1qQ",
    "outputId": "d34e1b46-4a6d-4543-9f6d-cc58e65b8190"
   },
   "outputs": [
    {
     "data": {
      "text/html": [
       "<div>\n",
       "<style scoped>\n",
       "    .dataframe tbody tr th:only-of-type {\n",
       "        vertical-align: middle;\n",
       "    }\n",
       "\n",
       "    .dataframe tbody tr th {\n",
       "        vertical-align: top;\n",
       "    }\n",
       "\n",
       "    .dataframe thead th {\n",
       "        text-align: right;\n",
       "    }\n",
       "</style>\n",
       "<table border=\"1\" class=\"dataframe\">\n",
       "  <thead>\n",
       "    <tr style=\"text-align: right;\">\n",
       "      <th></th>\n",
       "      <th>gender</th>\n",
       "      <th>height</th>\n",
       "      <th>z-score</th>\n",
       "    </tr>\n",
       "  </thead>\n",
       "  <tbody>\n",
       "    <tr>\n",
       "      <th>994</th>\n",
       "      <td>Male</td>\n",
       "      <td>78.095867</td>\n",
       "      <td>3.048271</td>\n",
       "    </tr>\n",
       "    <tr>\n",
       "      <th>1317</th>\n",
       "      <td>Male</td>\n",
       "      <td>78.462053</td>\n",
       "      <td>3.143445</td>\n",
       "    </tr>\n",
       "    <tr>\n",
       "      <th>2014</th>\n",
       "      <td>Male</td>\n",
       "      <td>78.998742</td>\n",
       "      <td>3.282934</td>\n",
       "    </tr>\n",
       "    <tr>\n",
       "      <th>3285</th>\n",
       "      <td>Male</td>\n",
       "      <td>78.528210</td>\n",
       "      <td>3.160640</td>\n",
       "    </tr>\n",
       "    <tr>\n",
       "      <th>3757</th>\n",
       "      <td>Male</td>\n",
       "      <td>78.621374</td>\n",
       "      <td>3.184854</td>\n",
       "    </tr>\n",
       "  </tbody>\n",
       "</table>\n",
       "</div>"
      ],
      "text/plain": [
       "     gender     height   z-score\n",
       "994    Male  78.095867  3.048271\n",
       "1317   Male  78.462053  3.143445\n",
       "2014   Male  78.998742  3.282934\n",
       "3285   Male  78.528210  3.160640\n",
       "3757   Male  78.621374  3.184854"
      ]
     },
     "execution_count": 20,
     "metadata": {
      "tags": []
     },
     "output_type": "execute_result"
    }
   ],
   "source": [
    "df[df['z-score']>3]"
   ]
  },
  {
   "cell_type": "code",
   "execution_count": 21,
   "metadata": {
    "colab": {
     "base_uri": "https://localhost:8080/",
     "height": 111
    },
    "executionInfo": {
     "elapsed": 5154,
     "status": "ok",
     "timestamp": 1610256088345,
     "user": {
      "displayName": "Al Amin",
      "photoUrl": "https://lh3.googleusercontent.com/a-/AOh14GiMB6CqgQqINGrgkLYU8ftIloMfHO5LgiFZgCAUSg=s64",
      "userId": "17120997331533597303"
     },
     "user_tz": -360
    },
    "id": "omUd0NuemTaH",
    "outputId": "ecee1d5d-81a3-461a-81e9-49bc003ed1e9"
   },
   "outputs": [
    {
     "data": {
      "text/html": [
       "<div>\n",
       "<style scoped>\n",
       "    .dataframe tbody tr th:only-of-type {\n",
       "        vertical-align: middle;\n",
       "    }\n",
       "\n",
       "    .dataframe tbody tr th {\n",
       "        vertical-align: top;\n",
       "    }\n",
       "\n",
       "    .dataframe thead th {\n",
       "        text-align: right;\n",
       "    }\n",
       "</style>\n",
       "<table border=\"1\" class=\"dataframe\">\n",
       "  <thead>\n",
       "    <tr style=\"text-align: right;\">\n",
       "      <th></th>\n",
       "      <th>gender</th>\n",
       "      <th>height</th>\n",
       "      <th>z-score</th>\n",
       "    </tr>\n",
       "  </thead>\n",
       "  <tbody>\n",
       "    <tr>\n",
       "      <th>6624</th>\n",
       "      <td>Female</td>\n",
       "      <td>54.616858</td>\n",
       "      <td>-3.054091</td>\n",
       "    </tr>\n",
       "    <tr>\n",
       "      <th>9285</th>\n",
       "      <td>Female</td>\n",
       "      <td>54.263133</td>\n",
       "      <td>-3.146027</td>\n",
       "    </tr>\n",
       "  </tbody>\n",
       "</table>\n",
       "</div>"
      ],
      "text/plain": [
       "      gender     height   z-score\n",
       "6624  Female  54.616858 -3.054091\n",
       "9285  Female  54.263133 -3.146027"
      ]
     },
     "execution_count": 21,
     "metadata": {
      "tags": []
     },
     "output_type": "execute_result"
    }
   ],
   "source": [
    "df[df['z-score']<-3]"
   ]
  },
  {
   "cell_type": "code",
   "execution_count": 22,
   "metadata": {
    "colab": {
     "base_uri": "https://localhost:8080/",
     "height": 266
    },
    "executionInfo": {
     "elapsed": 5131,
     "status": "ok",
     "timestamp": 1610256088346,
     "user": {
      "displayName": "Al Amin",
      "photoUrl": "https://lh3.googleusercontent.com/a-/AOh14GiMB6CqgQqINGrgkLYU8ftIloMfHO5LgiFZgCAUSg=s64",
      "userId": "17120997331533597303"
     },
     "user_tz": -360
    },
    "id": "sWHYKw3VmcaB",
    "outputId": "6616b9c8-61b7-4644-ff21-147107cec913"
   },
   "outputs": [
    {
     "data": {
      "text/html": [
       "<div>\n",
       "<style scoped>\n",
       "    .dataframe tbody tr th:only-of-type {\n",
       "        vertical-align: middle;\n",
       "    }\n",
       "\n",
       "    .dataframe tbody tr th {\n",
       "        vertical-align: top;\n",
       "    }\n",
       "\n",
       "    .dataframe thead th {\n",
       "        text-align: right;\n",
       "    }\n",
       "</style>\n",
       "<table border=\"1\" class=\"dataframe\">\n",
       "  <thead>\n",
       "    <tr style=\"text-align: right;\">\n",
       "      <th></th>\n",
       "      <th>gender</th>\n",
       "      <th>height</th>\n",
       "      <th>z-score</th>\n",
       "    </tr>\n",
       "  </thead>\n",
       "  <tbody>\n",
       "    <tr>\n",
       "      <th>994</th>\n",
       "      <td>Male</td>\n",
       "      <td>78.095867</td>\n",
       "      <td>3.048271</td>\n",
       "    </tr>\n",
       "    <tr>\n",
       "      <th>1317</th>\n",
       "      <td>Male</td>\n",
       "      <td>78.462053</td>\n",
       "      <td>3.143445</td>\n",
       "    </tr>\n",
       "    <tr>\n",
       "      <th>2014</th>\n",
       "      <td>Male</td>\n",
       "      <td>78.998742</td>\n",
       "      <td>3.282934</td>\n",
       "    </tr>\n",
       "    <tr>\n",
       "      <th>3285</th>\n",
       "      <td>Male</td>\n",
       "      <td>78.528210</td>\n",
       "      <td>3.160640</td>\n",
       "    </tr>\n",
       "    <tr>\n",
       "      <th>3757</th>\n",
       "      <td>Male</td>\n",
       "      <td>78.621374</td>\n",
       "      <td>3.184854</td>\n",
       "    </tr>\n",
       "    <tr>\n",
       "      <th>6624</th>\n",
       "      <td>Female</td>\n",
       "      <td>54.616858</td>\n",
       "      <td>-3.054091</td>\n",
       "    </tr>\n",
       "    <tr>\n",
       "      <th>9285</th>\n",
       "      <td>Female</td>\n",
       "      <td>54.263133</td>\n",
       "      <td>-3.146027</td>\n",
       "    </tr>\n",
       "  </tbody>\n",
       "</table>\n",
       "</div>"
      ],
      "text/plain": [
       "      gender     height   z-score\n",
       "994     Male  78.095867  3.048271\n",
       "1317    Male  78.462053  3.143445\n",
       "2014    Male  78.998742  3.282934\n",
       "3285    Male  78.528210  3.160640\n",
       "3757    Male  78.621374  3.184854\n",
       "6624  Female  54.616858 -3.054091\n",
       "9285  Female  54.263133 -3.146027"
      ]
     },
     "execution_count": 22,
     "metadata": {
      "tags": []
     },
     "output_type": "execute_result"
    }
   ],
   "source": [
    "df[(df['z-score']<-3)|(df['z-score']>3)]"
   ]
  },
  {
   "cell_type": "code",
   "execution_count": 23,
   "metadata": {
    "colab": {
     "base_uri": "https://localhost:8080/",
     "height": 419
    },
    "executionInfo": {
     "elapsed": 5107,
     "status": "ok",
     "timestamp": 1610256088348,
     "user": {
      "displayName": "Al Amin",
      "photoUrl": "https://lh3.googleusercontent.com/a-/AOh14GiMB6CqgQqINGrgkLYU8ftIloMfHO5LgiFZgCAUSg=s64",
      "userId": "17120997331533597303"
     },
     "user_tz": -360
    },
    "id": "C_2AxZ2Qmmti",
    "outputId": "f53167a0-2214-43e9-8318-537b0710023d"
   },
   "outputs": [
    {
     "data": {
      "text/html": [
       "<div>\n",
       "<style scoped>\n",
       "    .dataframe tbody tr th:only-of-type {\n",
       "        vertical-align: middle;\n",
       "    }\n",
       "\n",
       "    .dataframe tbody tr th {\n",
       "        vertical-align: top;\n",
       "    }\n",
       "\n",
       "    .dataframe thead th {\n",
       "        text-align: right;\n",
       "    }\n",
       "</style>\n",
       "<table border=\"1\" class=\"dataframe\">\n",
       "  <thead>\n",
       "    <tr style=\"text-align: right;\">\n",
       "      <th></th>\n",
       "      <th>gender</th>\n",
       "      <th>height</th>\n",
       "      <th>z-score</th>\n",
       "    </tr>\n",
       "  </thead>\n",
       "  <tbody>\n",
       "    <tr>\n",
       "      <th>0</th>\n",
       "      <td>Male</td>\n",
       "      <td>73.847017</td>\n",
       "      <td>1.943964</td>\n",
       "    </tr>\n",
       "    <tr>\n",
       "      <th>1</th>\n",
       "      <td>Male</td>\n",
       "      <td>68.781904</td>\n",
       "      <td>0.627505</td>\n",
       "    </tr>\n",
       "    <tr>\n",
       "      <th>2</th>\n",
       "      <td>Male</td>\n",
       "      <td>74.110105</td>\n",
       "      <td>2.012343</td>\n",
       "    </tr>\n",
       "    <tr>\n",
       "      <th>3</th>\n",
       "      <td>Male</td>\n",
       "      <td>71.730978</td>\n",
       "      <td>1.393991</td>\n",
       "    </tr>\n",
       "    <tr>\n",
       "      <th>4</th>\n",
       "      <td>Male</td>\n",
       "      <td>69.881796</td>\n",
       "      <td>0.913375</td>\n",
       "    </tr>\n",
       "    <tr>\n",
       "      <th>...</th>\n",
       "      <td>...</td>\n",
       "      <td>...</td>\n",
       "      <td>...</td>\n",
       "    </tr>\n",
       "    <tr>\n",
       "      <th>9995</th>\n",
       "      <td>Female</td>\n",
       "      <td>66.172652</td>\n",
       "      <td>-0.050658</td>\n",
       "    </tr>\n",
       "    <tr>\n",
       "      <th>9996</th>\n",
       "      <td>Female</td>\n",
       "      <td>67.067155</td>\n",
       "      <td>0.181830</td>\n",
       "    </tr>\n",
       "    <tr>\n",
       "      <th>9997</th>\n",
       "      <td>Female</td>\n",
       "      <td>63.867992</td>\n",
       "      <td>-0.649655</td>\n",
       "    </tr>\n",
       "    <tr>\n",
       "      <th>9998</th>\n",
       "      <td>Female</td>\n",
       "      <td>69.034243</td>\n",
       "      <td>0.693090</td>\n",
       "    </tr>\n",
       "    <tr>\n",
       "      <th>9999</th>\n",
       "      <td>Female</td>\n",
       "      <td>61.944246</td>\n",
       "      <td>-1.149651</td>\n",
       "    </tr>\n",
       "  </tbody>\n",
       "</table>\n",
       "<p>9993 rows × 3 columns</p>\n",
       "</div>"
      ],
      "text/plain": [
       "      gender     height   z-score\n",
       "0       Male  73.847017  1.943964\n",
       "1       Male  68.781904  0.627505\n",
       "2       Male  74.110105  2.012343\n",
       "3       Male  71.730978  1.393991\n",
       "4       Male  69.881796  0.913375\n",
       "...      ...        ...       ...\n",
       "9995  Female  66.172652 -0.050658\n",
       "9996  Female  67.067155  0.181830\n",
       "9997  Female  63.867992 -0.649655\n",
       "9998  Female  69.034243  0.693090\n",
       "9999  Female  61.944246 -1.149651\n",
       "\n",
       "[9993 rows x 3 columns]"
      ]
     },
     "execution_count": 23,
     "metadata": {
      "tags": []
     },
     "output_type": "execute_result"
    }
   ],
   "source": [
    "df_no_outlier_Zscore = df[(df['z-score']>-3)&(df['z-score']<3)]\n",
    "df_no_outlier_Zscore"
   ]
  },
  {
   "cell_type": "code",
   "execution_count": 24,
   "metadata": {
    "colab": {
     "base_uri": "https://localhost:8080/",
     "height": 502
    },
    "executionInfo": {
     "elapsed": 5920,
     "status": "ok",
     "timestamp": 1610256089187,
     "user": {
      "displayName": "Al Amin",
      "photoUrl": "https://lh3.googleusercontent.com/a-/AOh14GiMB6CqgQqINGrgkLYU8ftIloMfHO5LgiFZgCAUSg=s64",
      "userId": "17120997331533597303"
     },
     "user_tz": -360
    },
    "id": "eZtMDdCxykms",
    "outputId": "ee0901a2-0ed0-4956-c134-4d38c6bef7a2"
   },
   "outputs": [
    {
     "data": {
      "image/png": "[encoded data removed]",
      "text/plain": [
       "<Figure size 720x576 with 1 Axes>"
      ]
     },
     "metadata": {
      "tags": []
     },
     "output_type": "display_data"
    }
   ],
   "source": [
    "# After remove outliers using standard Z-score\n",
    "plt.figure(figsize=(10,8))\n",
    "sns.boxplot(x='gender',y='height',data=df_no_outlier_Zscore)\n",
    "plt.show()"
   ]
  },
  {
   "cell_type": "markdown",
   "metadata": {
    "id": "X-5kErttulV1"
   },
   "source": [
    "# **Excercise**"
   ]
  },
  {
   "cell_type": "code",
   "execution_count": 25,
   "metadata": {
    "colab": {
     "base_uri": "https://localhost:8080/",
     "height": 204
    },
    "executionInfo": {
     "elapsed": 5895,
     "status": "ok",
     "timestamp": 1610256089189,
     "user": {
      "displayName": "Al Amin",
      "photoUrl": "https://lh3.googleusercontent.com/a-/AOh14GiMB6CqgQqINGrgkLYU8ftIloMfHO5LgiFZgCAUSg=s64",
      "userId": "17120997331533597303"
     },
     "user_tz": -360
    },
    "id": "9R-7JjZ4nGV-",
    "outputId": "87837e6e-c691-4a74-c210-ee446f522d70"
   },
   "outputs": [
    {
     "data": {
      "text/html": [
       "<div>\n",
       "<style scoped>\n",
       "    .dataframe tbody tr th:only-of-type {\n",
       "        vertical-align: middle;\n",
       "    }\n",
       "\n",
       "    .dataframe tbody tr th {\n",
       "        vertical-align: top;\n",
       "    }\n",
       "\n",
       "    .dataframe thead th {\n",
       "        text-align: right;\n",
       "    }\n",
       "</style>\n",
       "<table border=\"1\" class=\"dataframe\">\n",
       "  <thead>\n",
       "    <tr style=\"text-align: right;\">\n",
       "      <th></th>\n",
       "      <th>location</th>\n",
       "      <th>size</th>\n",
       "      <th>total_sqft</th>\n",
       "      <th>bath</th>\n",
       "      <th>price</th>\n",
       "      <th>bhk</th>\n",
       "      <th>price_per_sqft</th>\n",
       "    </tr>\n",
       "  </thead>\n",
       "  <tbody>\n",
       "    <tr>\n",
       "      <th>0</th>\n",
       "      <td>Electronic City Phase II</td>\n",
       "      <td>2 BHK</td>\n",
       "      <td>1056.0</td>\n",
       "      <td>2.0</td>\n",
       "      <td>39.07</td>\n",
       "      <td>2</td>\n",
       "      <td>3699</td>\n",
       "    </tr>\n",
       "    <tr>\n",
       "      <th>1</th>\n",
       "      <td>Chikka Tirupathi</td>\n",
       "      <td>4 Bedroom</td>\n",
       "      <td>2600.0</td>\n",
       "      <td>5.0</td>\n",
       "      <td>120.00</td>\n",
       "      <td>4</td>\n",
       "      <td>4615</td>\n",
       "    </tr>\n",
       "    <tr>\n",
       "      <th>2</th>\n",
       "      <td>Uttarahalli</td>\n",
       "      <td>3 BHK</td>\n",
       "      <td>1440.0</td>\n",
       "      <td>2.0</td>\n",
       "      <td>62.00</td>\n",
       "      <td>3</td>\n",
       "      <td>4305</td>\n",
       "    </tr>\n",
       "    <tr>\n",
       "      <th>3</th>\n",
       "      <td>Lingadheeranahalli</td>\n",
       "      <td>3 BHK</td>\n",
       "      <td>1521.0</td>\n",
       "      <td>3.0</td>\n",
       "      <td>95.00</td>\n",
       "      <td>3</td>\n",
       "      <td>6245</td>\n",
       "    </tr>\n",
       "    <tr>\n",
       "      <th>4</th>\n",
       "      <td>Kothanur</td>\n",
       "      <td>2 BHK</td>\n",
       "      <td>1200.0</td>\n",
       "      <td>2.0</td>\n",
       "      <td>51.00</td>\n",
       "      <td>2</td>\n",
       "      <td>4250</td>\n",
       "    </tr>\n",
       "  </tbody>\n",
       "</table>\n",
       "</div>"
      ],
      "text/plain": [
       "                   location       size  total_sqft  ...   price  bhk  price_per_sqft\n",
       "0  Electronic City Phase II      2 BHK      1056.0  ...   39.07    2            3699\n",
       "1          Chikka Tirupathi  4 Bedroom      2600.0  ...  120.00    4            4615\n",
       "2               Uttarahalli      3 BHK      1440.0  ...   62.00    3            4305\n",
       "3        Lingadheeranahalli      3 BHK      1521.0  ...   95.00    3            6245\n",
       "4                  Kothanur      2 BHK      1200.0  ...   51.00    2            4250\n",
       "\n",
       "[5 rows x 7 columns]"
      ]
     },
     "execution_count": 25,
     "metadata": {
      "tags": []
     },
     "output_type": "execute_result"
    }
   ],
   "source": [
    "ex_df = pd.read_csv(\"/content/drive/MyDrive/Machine Learning/Supervised Learning/Some Important Topic for Machine Learning/Features Engineering /Outliers find/bhp.csv\")\n",
    "ex_df.head()"
   ]
  },
  {
   "cell_type": "code",
   "execution_count": 26,
   "metadata": {
    "colab": {
     "base_uri": "https://localhost:8080/",
     "height": 297
    },
    "executionInfo": {
     "elapsed": 5874,
     "status": "ok",
     "timestamp": 1610256089191,
     "user": {
      "displayName": "Al Amin",
      "photoUrl": "https://lh3.googleusercontent.com/a-/AOh14GiMB6CqgQqINGrgkLYU8ftIloMfHO5LgiFZgCAUSg=s64",
      "userId": "17120997331533597303"
     },
     "user_tz": -360
    },
    "id": "_CuInEmQzgFI",
    "outputId": "f958b8a3-f3ab-40fd-8f3d-053dd55e3129"
   },
   "outputs": [
    {
     "data": {
      "text/html": [
       "<div>\n",
       "<style scoped>\n",
       "    .dataframe tbody tr th:only-of-type {\n",
       "        vertical-align: middle;\n",
       "    }\n",
       "\n",
       "    .dataframe tbody tr th {\n",
       "        vertical-align: top;\n",
       "    }\n",
       "\n",
       "    .dataframe thead th {\n",
       "        text-align: right;\n",
       "    }\n",
       "</style>\n",
       "<table border=\"1\" class=\"dataframe\">\n",
       "  <thead>\n",
       "    <tr style=\"text-align: right;\">\n",
       "      <th></th>\n",
       "      <th>total_sqft</th>\n",
       "      <th>bath</th>\n",
       "      <th>price</th>\n",
       "      <th>bhk</th>\n",
       "      <th>price_per_sqft</th>\n",
       "    </tr>\n",
       "  </thead>\n",
       "  <tbody>\n",
       "    <tr>\n",
       "      <th>count</th>\n",
       "      <td>13200.000000</td>\n",
       "      <td>13200.000000</td>\n",
       "      <td>13200.000000</td>\n",
       "      <td>13200.000000</td>\n",
       "      <td>1.320000e+04</td>\n",
       "    </tr>\n",
       "    <tr>\n",
       "      <th>mean</th>\n",
       "      <td>1555.302783</td>\n",
       "      <td>2.691136</td>\n",
       "      <td>112.276178</td>\n",
       "      <td>2.800833</td>\n",
       "      <td>7.920337e+03</td>\n",
       "    </tr>\n",
       "    <tr>\n",
       "      <th>std</th>\n",
       "      <td>1237.323445</td>\n",
       "      <td>1.338915</td>\n",
       "      <td>149.175995</td>\n",
       "      <td>1.292843</td>\n",
       "      <td>1.067272e+05</td>\n",
       "    </tr>\n",
       "    <tr>\n",
       "      <th>min</th>\n",
       "      <td>1.000000</td>\n",
       "      <td>1.000000</td>\n",
       "      <td>8.000000</td>\n",
       "      <td>1.000000</td>\n",
       "      <td>2.670000e+02</td>\n",
       "    </tr>\n",
       "    <tr>\n",
       "      <th>25%</th>\n",
       "      <td>1100.000000</td>\n",
       "      <td>2.000000</td>\n",
       "      <td>50.000000</td>\n",
       "      <td>2.000000</td>\n",
       "      <td>4.267000e+03</td>\n",
       "    </tr>\n",
       "    <tr>\n",
       "      <th>50%</th>\n",
       "      <td>1275.000000</td>\n",
       "      <td>2.000000</td>\n",
       "      <td>71.850000</td>\n",
       "      <td>3.000000</td>\n",
       "      <td>5.438000e+03</td>\n",
       "    </tr>\n",
       "    <tr>\n",
       "      <th>75%</th>\n",
       "      <td>1672.000000</td>\n",
       "      <td>3.000000</td>\n",
       "      <td>120.000000</td>\n",
       "      <td>3.000000</td>\n",
       "      <td>7.317000e+03</td>\n",
       "    </tr>\n",
       "    <tr>\n",
       "      <th>max</th>\n",
       "      <td>52272.000000</td>\n",
       "      <td>40.000000</td>\n",
       "      <td>3600.000000</td>\n",
       "      <td>43.000000</td>\n",
       "      <td>1.200000e+07</td>\n",
       "    </tr>\n",
       "  </tbody>\n",
       "</table>\n",
       "</div>"
      ],
      "text/plain": [
       "         total_sqft          bath         price           bhk  price_per_sqft\n",
       "count  13200.000000  13200.000000  13200.000000  13200.000000    1.320000e+04\n",
       "mean    1555.302783      2.691136    112.276178      2.800833    7.920337e+03\n",
       "std     1237.323445      1.338915    149.175995      1.292843    1.067272e+05\n",
       "min        1.000000      1.000000      8.000000      1.000000    2.670000e+02\n",
       "25%     1100.000000      2.000000     50.000000      2.000000    4.267000e+03\n",
       "50%     1275.000000      2.000000     71.850000      3.000000    5.438000e+03\n",
       "75%     1672.000000      3.000000    120.000000      3.000000    7.317000e+03\n",
       "max    52272.000000     40.000000   3600.000000     43.000000    1.200000e+07"
      ]
     },
     "execution_count": 26,
     "metadata": {
      "tags": []
     },
     "output_type": "execute_result"
    }
   ],
   "source": [
    "ex_df.describe()"
   ]
  },
  {
   "cell_type": "code",
   "execution_count": 27,
   "metadata": {
    "colab": {
     "base_uri": "https://localhost:8080/"
    },
    "executionInfo": {
     "elapsed": 5855,
     "status": "ok",
     "timestamp": 1610256089193,
     "user": {
      "displayName": "Al Amin",
      "photoUrl": "https://lh3.googleusercontent.com/a-/AOh14GiMB6CqgQqINGrgkLYU8ftIloMfHO5LgiFZgCAUSg=s64",
      "userId": "17120997331533597303"
     },
     "user_tz": -360
    },
    "id": "sVrBe7GvzmRK",
    "outputId": "305d4ba4-94b3-4fc0-b69b-af12690433e4"
   },
   "outputs": [
    {
     "data": {
      "text/plain": [
       "count    1.320000e+04\n",
       "mean     7.920337e+03\n",
       "std      1.067272e+05\n",
       "min      2.670000e+02\n",
       "25%      4.267000e+03\n",
       "50%      5.438000e+03\n",
       "75%      7.317000e+03\n",
       "max      1.200000e+07\n",
       "Name: price_per_sqft, dtype: float64"
      ]
     },
     "execution_count": 27,
     "metadata": {
      "tags": []
     },
     "output_type": "execute_result"
    }
   ],
   "source": [
    "ex_df.price_per_sqft.describe()"
   ]
  },
  {
   "cell_type": "markdown",
   "metadata": {
    "id": "2VrIZWpCz6L0"
   },
   "source": [
    "### **Above, you can see max is 12000000, which is too much price for price per sqft. Looks like this dataset has some very bad outliers so we will first remove those with percentile and then use z score**"
   ]
  },
  {
   "cell_type": "markdown",
   "metadata": {
    "id": "sr0b-yQY0BM2"
   },
   "source": [
    "## Also plot **histogram** to see how is the data distribution"
   ]
  },
  {
   "cell_type": "code",
   "execution_count": 28,
   "metadata": {
    "colab": {
     "base_uri": "https://localhost:8080/",
     "height": 502
    },
    "executionInfo": {
     "elapsed": 6494,
     "status": "ok",
     "timestamp": 1610256089852,
     "user": {
      "displayName": "Al Amin",
      "photoUrl": "https://lh3.googleusercontent.com/a-/AOh14GiMB6CqgQqINGrgkLYU8ftIloMfHO5LgiFZgCAUSg=s64",
      "userId": "17120997331533597303"
     },
     "user_tz": -360
    },
    "id": "-LG2S-mHzpMy",
    "outputId": "46f63239-a315-4be3-b82d-6fb73de8d117"
   },
   "outputs": [
    {
     "data": {
      "image/png": "[encoded data removed]",
      "text/plain": [
       "<Figure size 720x576 with 1 Axes>"
      ]
     },
     "metadata": {
      "tags": []
     },
     "output_type": "display_data"
    }
   ],
   "source": [
    "plt.figure(figsize=(10,8))\n",
    "plt.hist(ex_df.price_per_sqft,bins=20,rwidth=0.8)\n",
    "plt.xlabel(\"Price_Per_sqft\")\n",
    "plt.ylabel(\"Count\")\n",
    "plt.show()"
   ]
  },
  {
   "cell_type": "markdown",
   "metadata": {
    "id": "d8ZLef4u0y0c"
   },
   "source": [
    "Above chart confirms our understanding that this dataset has some bad outliers. Because we see only one bar with more than 12000 data points but on the right hand side there are data points that have higher value for price per sqft but count of these data points is very tiny compared to 12000 hence we can hardly see any bar\n",
    "\n",
    "Using log scale can make visualization little better"
   ]
  },
  {
   "cell_type": "code",
   "execution_count": 29,
   "metadata": {
    "colab": {
     "base_uri": "https://localhost:8080/",
     "height": 502
    },
    "executionInfo": {
     "elapsed": 6483,
     "status": "ok",
     "timestamp": 1610256089867,
     "user": {
      "displayName": "Al Amin",
      "photoUrl": "https://lh3.googleusercontent.com/a-/AOh14GiMB6CqgQqINGrgkLYU8ftIloMfHO5LgiFZgCAUSg=s64",
      "userId": "17120997331533597303"
     },
     "user_tz": -360
    },
    "id": "Vl-DDaLB0rwN",
    "outputId": "7c296efd-23f6-4d6f-a166-039cc232435f"
   },
   "outputs": [
    {
     "data": {
      "image/png": "[encoded data removed]",
      "text/plain": [
       "<Figure size 720x576 with 1 Axes>"
      ]
     },
     "metadata": {
      "tags": []
     },
     "output_type": "display_data"
    }
   ],
   "source": [
    "plt.figure(figsize=(10,8))\n",
    "plt.hist(ex_df.price_per_sqft,bins=20,rwidth=0.8)\n",
    "plt.xlabel(\"Price_Per_sqft\")\n",
    "plt.ylabel(\"Count\")\n",
    "plt.yscale('log')\n",
    "plt.show()"
   ]
  },
  {
   "cell_type": "markdown",
   "metadata": {
    "id": "HKJl1Klr1HXn"
   },
   "source": [
    "**You see atleast few bars on right hand side of our highest building at least :)**"
   ]
  },
  {
   "cell_type": "markdown",
   "metadata": {
    "id": "84JsbSWg1gd7"
   },
   "source": [
    "## **(1) Treat outliers using percentile first**"
   ]
  },
  {
   "cell_type": "code",
   "execution_count": 30,
   "metadata": {
    "colab": {
     "base_uri": "https://localhost:8080/"
    },
    "executionInfo": {
     "elapsed": 6465,
     "status": "ok",
     "timestamp": 1610256089869,
     "user": {
      "displayName": "Al Amin",
      "photoUrl": "https://lh3.googleusercontent.com/a-/AOh14GiMB6CqgQqINGrgkLYU8ftIloMfHO5LgiFZgCAUSg=s64",
      "userId": "17120997331533597303"
     },
     "user_tz": -360
    },
    "id": "SMZpfHXD1Gre",
    "outputId": "d1bdb4af-a795-49a9-a08e-0e2706cdef3f"
   },
   "outputs": [
    {
     "data": {
      "text/plain": [
       "(2549.0, 50959.36200000099)"
      ]
     },
     "execution_count": 30,
     "metadata": {
      "tags": []
     },
     "output_type": "execute_result"
    }
   ],
   "source": [
    "lower_limit2,upper_limit2 = ex_df.price_per_sqft.quantile([0.01,0.999])\n",
    "lower_limit2,upper_limit2"
   ]
  },
  {
   "cell_type": "code",
   "execution_count": 31,
   "metadata": {
    "colab": {
     "base_uri": "https://localhost:8080/",
     "height": 359
    },
    "executionInfo": {
     "elapsed": 6445,
     "status": "ok",
     "timestamp": 1610256089870,
     "user": {
      "displayName": "Al Amin",
      "photoUrl": "https://lh3.googleusercontent.com/a-/AOh14GiMB6CqgQqINGrgkLYU8ftIloMfHO5LgiFZgCAUSg=s64",
      "userId": "17120997331533597303"
     },
     "user_tz": -360
    },
    "id": "HteBoDuh1_TI",
    "outputId": "87e1957f-983f-4d5b-9000-532c5df7f1a1"
   },
   "outputs": [
    {
     "data": {
      "text/html": [
       "<div>\n",
       "<style scoped>\n",
       "    .dataframe tbody tr th:only-of-type {\n",
       "        vertical-align: middle;\n",
       "    }\n",
       "\n",
       "    .dataframe tbody tr th {\n",
       "        vertical-align: top;\n",
       "    }\n",
       "\n",
       "    .dataframe thead th {\n",
       "        text-align: right;\n",
       "    }\n",
       "</style>\n",
       "<table border=\"1\" class=\"dataframe\">\n",
       "  <thead>\n",
       "    <tr style=\"text-align: right;\">\n",
       "      <th></th>\n",
       "      <th>location</th>\n",
       "      <th>size</th>\n",
       "      <th>total_sqft</th>\n",
       "      <th>bath</th>\n",
       "      <th>price</th>\n",
       "      <th>bhk</th>\n",
       "      <th>price_per_sqft</th>\n",
       "    </tr>\n",
       "  </thead>\n",
       "  <tbody>\n",
       "    <tr>\n",
       "      <th>345</th>\n",
       "      <td>other</td>\n",
       "      <td>3 Bedroom</td>\n",
       "      <td>11.0</td>\n",
       "      <td>3.0</td>\n",
       "      <td>74.00</td>\n",
       "      <td>3</td>\n",
       "      <td>672727</td>\n",
       "    </tr>\n",
       "    <tr>\n",
       "      <th>9726</th>\n",
       "      <td>Chandapura</td>\n",
       "      <td>2 BHK</td>\n",
       "      <td>750.0</td>\n",
       "      <td>1.0</td>\n",
       "      <td>18.50</td>\n",
       "      <td>2</td>\n",
       "      <td>2466</td>\n",
       "    </tr>\n",
       "    <tr>\n",
       "      <th>7909</th>\n",
       "      <td>Jakkur</td>\n",
       "      <td>2 BHK</td>\n",
       "      <td>850.0</td>\n",
       "      <td>1.0</td>\n",
       "      <td>19.90</td>\n",
       "      <td>2</td>\n",
       "      <td>2341</td>\n",
       "    </tr>\n",
       "    <tr>\n",
       "      <th>1503</th>\n",
       "      <td>Chandapura</td>\n",
       "      <td>2 BHK</td>\n",
       "      <td>1201.0</td>\n",
       "      <td>2.0</td>\n",
       "      <td>27.00</td>\n",
       "      <td>2</td>\n",
       "      <td>2248</td>\n",
       "    </tr>\n",
       "    <tr>\n",
       "      <th>8827</th>\n",
       "      <td>Electronic City</td>\n",
       "      <td>2 BHK</td>\n",
       "      <td>1200.0</td>\n",
       "      <td>2.0</td>\n",
       "      <td>20.00</td>\n",
       "      <td>2</td>\n",
       "      <td>1666</td>\n",
       "    </tr>\n",
       "    <tr>\n",
       "      <th>8501</th>\n",
       "      <td>Chandapura</td>\n",
       "      <td>1 BHK</td>\n",
       "      <td>450.0</td>\n",
       "      <td>1.0</td>\n",
       "      <td>9.00</td>\n",
       "      <td>1</td>\n",
       "      <td>2000</td>\n",
       "    </tr>\n",
       "    <tr>\n",
       "      <th>12355</th>\n",
       "      <td>other</td>\n",
       "      <td>4 BHK</td>\n",
       "      <td>16335.0</td>\n",
       "      <td>4.0</td>\n",
       "      <td>149.00</td>\n",
       "      <td>4</td>\n",
       "      <td>912</td>\n",
       "    </tr>\n",
       "    <tr>\n",
       "      <th>559</th>\n",
       "      <td>Bommasandra</td>\n",
       "      <td>2 BHK</td>\n",
       "      <td>1126.0</td>\n",
       "      <td>2.0</td>\n",
       "      <td>28.15</td>\n",
       "      <td>2</td>\n",
       "      <td>2500</td>\n",
       "    </tr>\n",
       "    <tr>\n",
       "      <th>665</th>\n",
       "      <td>Yelahanka</td>\n",
       "      <td>3 BHK</td>\n",
       "      <td>35000.0</td>\n",
       "      <td>3.0</td>\n",
       "      <td>130.00</td>\n",
       "      <td>3</td>\n",
       "      <td>371</td>\n",
       "    </tr>\n",
       "    <tr>\n",
       "      <th>7001</th>\n",
       "      <td>other</td>\n",
       "      <td>2 BHK</td>\n",
       "      <td>1600.0</td>\n",
       "      <td>2.0</td>\n",
       "      <td>31.00</td>\n",
       "      <td>2</td>\n",
       "      <td>1937</td>\n",
       "    </tr>\n",
       "  </tbody>\n",
       "</table>\n",
       "</div>"
      ],
      "text/plain": [
       "              location       size  total_sqft  ...   price  bhk  price_per_sqft\n",
       "345              other  3 Bedroom        11.0  ...   74.00    3          672727\n",
       "9726        Chandapura      2 BHK       750.0  ...   18.50    2            2466\n",
       "7909            Jakkur      2 BHK       850.0  ...   19.90    2            2341\n",
       "1503        Chandapura      2 BHK      1201.0  ...   27.00    2            2248\n",
       "8827   Electronic City      2 BHK      1200.0  ...   20.00    2            1666\n",
       "8501        Chandapura      1 BHK       450.0  ...    9.00    1            2000\n",
       "12355            other      4 BHK     16335.0  ...  149.00    4             912\n",
       "559        Bommasandra      2 BHK      1126.0  ...   28.15    2            2500\n",
       "665          Yelahanka      3 BHK     35000.0  ...  130.00    3             371\n",
       "7001             other      2 BHK      1600.0  ...   31.00    2            1937\n",
       "\n",
       "[10 rows x 7 columns]"
      ]
     },
     "execution_count": 31,
     "metadata": {
      "tags": []
     },
     "output_type": "execute_result"
    }
   ],
   "source": [
    "outliers = ex_df[(ex_df.price_per_sqft<lower_limit2) | (ex_df.price_per_sqft>upper_limit2)]\n",
    "outliers.sample(10)"
   ]
  },
  {
   "cell_type": "markdown",
   "metadata": {
    "id": "5m7eWB-P2jXM"
   },
   "source": [
    "**Above shows properties that has price_per_sqft value such as 500 rs which is very very low for the city of banglore. You would be very lucky if you can find such as property :) Also we have properties that has price per sqft value such as 12000000 which is way too high. It seems almost impossible and even if it is legitimate it can help data analysis process if we remove such a data point**"
   ]
  },
  {
   "cell_type": "code",
   "execution_count": 32,
   "metadata": {
    "colab": {
     "base_uri": "https://localhost:8080/",
     "height": 419
    },
    "executionInfo": {
     "elapsed": 7322,
     "status": "ok",
     "timestamp": 1610256090771,
     "user": {
      "displayName": "Al Amin",
      "photoUrl": "https://lh3.googleusercontent.com/a-/AOh14GiMB6CqgQqINGrgkLYU8ftIloMfHO5LgiFZgCAUSg=s64",
      "userId": "17120997331533597303"
     },
     "user_tz": -360
    },
    "id": "0kehy1Lp2OfQ",
    "outputId": "6c4cba77-9df0-4016-a69b-c84a9c696806"
   },
   "outputs": [
    {
     "data": {
      "text/html": [
       "<div>\n",
       "<style scoped>\n",
       "    .dataframe tbody tr th:only-of-type {\n",
       "        vertical-align: middle;\n",
       "    }\n",
       "\n",
       "    .dataframe tbody tr th {\n",
       "        vertical-align: top;\n",
       "    }\n",
       "\n",
       "    .dataframe thead th {\n",
       "        text-align: right;\n",
       "    }\n",
       "</style>\n",
       "<table border=\"1\" class=\"dataframe\">\n",
       "  <thead>\n",
       "    <tr style=\"text-align: right;\">\n",
       "      <th></th>\n",
       "      <th>location</th>\n",
       "      <th>size</th>\n",
       "      <th>total_sqft</th>\n",
       "      <th>bath</th>\n",
       "      <th>price</th>\n",
       "      <th>bhk</th>\n",
       "      <th>price_per_sqft</th>\n",
       "    </tr>\n",
       "  </thead>\n",
       "  <tbody>\n",
       "    <tr>\n",
       "      <th>0</th>\n",
       "      <td>Electronic City Phase II</td>\n",
       "      <td>2 BHK</td>\n",
       "      <td>1056.0</td>\n",
       "      <td>2.0</td>\n",
       "      <td>39.07</td>\n",
       "      <td>2</td>\n",
       "      <td>3699</td>\n",
       "    </tr>\n",
       "    <tr>\n",
       "      <th>1</th>\n",
       "      <td>Chikka Tirupathi</td>\n",
       "      <td>4 Bedroom</td>\n",
       "      <td>2600.0</td>\n",
       "      <td>5.0</td>\n",
       "      <td>120.00</td>\n",
       "      <td>4</td>\n",
       "      <td>4615</td>\n",
       "    </tr>\n",
       "    <tr>\n",
       "      <th>2</th>\n",
       "      <td>Uttarahalli</td>\n",
       "      <td>3 BHK</td>\n",
       "      <td>1440.0</td>\n",
       "      <td>2.0</td>\n",
       "      <td>62.00</td>\n",
       "      <td>3</td>\n",
       "      <td>4305</td>\n",
       "    </tr>\n",
       "    <tr>\n",
       "      <th>3</th>\n",
       "      <td>Lingadheeranahalli</td>\n",
       "      <td>3 BHK</td>\n",
       "      <td>1521.0</td>\n",
       "      <td>3.0</td>\n",
       "      <td>95.00</td>\n",
       "      <td>3</td>\n",
       "      <td>6245</td>\n",
       "    </tr>\n",
       "    <tr>\n",
       "      <th>4</th>\n",
       "      <td>Kothanur</td>\n",
       "      <td>2 BHK</td>\n",
       "      <td>1200.0</td>\n",
       "      <td>2.0</td>\n",
       "      <td>51.00</td>\n",
       "      <td>2</td>\n",
       "      <td>4250</td>\n",
       "    </tr>\n",
       "    <tr>\n",
       "      <th>...</th>\n",
       "      <td>...</td>\n",
       "      <td>...</td>\n",
       "      <td>...</td>\n",
       "      <td>...</td>\n",
       "      <td>...</td>\n",
       "      <td>...</td>\n",
       "      <td>...</td>\n",
       "    </tr>\n",
       "    <tr>\n",
       "      <th>13195</th>\n",
       "      <td>Whitefield</td>\n",
       "      <td>5 Bedroom</td>\n",
       "      <td>3453.0</td>\n",
       "      <td>4.0</td>\n",
       "      <td>231.00</td>\n",
       "      <td>5</td>\n",
       "      <td>6689</td>\n",
       "    </tr>\n",
       "    <tr>\n",
       "      <th>13196</th>\n",
       "      <td>other</td>\n",
       "      <td>4 BHK</td>\n",
       "      <td>3600.0</td>\n",
       "      <td>5.0</td>\n",
       "      <td>400.00</td>\n",
       "      <td>4</td>\n",
       "      <td>11111</td>\n",
       "    </tr>\n",
       "    <tr>\n",
       "      <th>13197</th>\n",
       "      <td>Raja Rajeshwari Nagar</td>\n",
       "      <td>2 BHK</td>\n",
       "      <td>1141.0</td>\n",
       "      <td>2.0</td>\n",
       "      <td>60.00</td>\n",
       "      <td>2</td>\n",
       "      <td>5258</td>\n",
       "    </tr>\n",
       "    <tr>\n",
       "      <th>13198</th>\n",
       "      <td>Padmanabhanagar</td>\n",
       "      <td>4 BHK</td>\n",
       "      <td>4689.0</td>\n",
       "      <td>4.0</td>\n",
       "      <td>488.00</td>\n",
       "      <td>4</td>\n",
       "      <td>10407</td>\n",
       "    </tr>\n",
       "    <tr>\n",
       "      <th>13199</th>\n",
       "      <td>Doddathoguru</td>\n",
       "      <td>1 BHK</td>\n",
       "      <td>550.0</td>\n",
       "      <td>1.0</td>\n",
       "      <td>17.00</td>\n",
       "      <td>1</td>\n",
       "      <td>3090</td>\n",
       "    </tr>\n",
       "  </tbody>\n",
       "</table>\n",
       "<p>13050 rows × 7 columns</p>\n",
       "</div>"
      ],
      "text/plain": [
       "                       location       size  ...  bhk  price_per_sqft\n",
       "0      Electronic City Phase II      2 BHK  ...    2            3699\n",
       "1              Chikka Tirupathi  4 Bedroom  ...    4            4615\n",
       "2                   Uttarahalli      3 BHK  ...    3            4305\n",
       "3            Lingadheeranahalli      3 BHK  ...    3            6245\n",
       "4                      Kothanur      2 BHK  ...    2            4250\n",
       "...                         ...        ...  ...  ...             ...\n",
       "13195                Whitefield  5 Bedroom  ...    5            6689\n",
       "13196                     other      4 BHK  ...    4           11111\n",
       "13197     Raja Rajeshwari Nagar      2 BHK  ...    2            5258\n",
       "13198           Padmanabhanagar      4 BHK  ...    4           10407\n",
       "13199              Doddathoguru      1 BHK  ...    1            3090\n",
       "\n",
       "[13050 rows x 7 columns]"
      ]
     },
     "execution_count": 32,
     "metadata": {
      "tags": []
     },
     "output_type": "execute_result"
    }
   ],
   "source": [
    "ex_df2 = ex_df[(ex_df.price_per_sqft>lower_limit2) & (ex_df.price_per_sqft<upper_limit2)]\n",
    "ex_df2"
   ]
  },
  {
   "cell_type": "code",
   "execution_count": 33,
   "metadata": {
    "colab": {
     "base_uri": "https://localhost:8080/"
    },
    "executionInfo": {
     "elapsed": 7311,
     "status": "ok",
     "timestamp": 1610256090781,
     "user": {
      "displayName": "Al Amin",
      "photoUrl": "https://lh3.googleusercontent.com/a-/AOh14GiMB6CqgQqINGrgkLYU8ftIloMfHO5LgiFZgCAUSg=s64",
      "userId": "17120997331533597303"
     },
     "user_tz": -360
    },
    "id": "KH0YL-O028wu",
    "outputId": "428473b5-d230-46a8-9eb0-dfb507be0557"
   },
   "outputs": [
    {
     "data": {
      "text/plain": [
       "(13050, 7)"
      ]
     },
     "execution_count": 33,
     "metadata": {
      "tags": []
     },
     "output_type": "execute_result"
    }
   ],
   "source": [
    "ex_df2.shape"
   ]
  },
  {
   "cell_type": "code",
   "execution_count": 34,
   "metadata": {
    "colab": {
     "base_uri": "https://localhost:8080/"
    },
    "executionInfo": {
     "elapsed": 7291,
     "status": "ok",
     "timestamp": 1610256090782,
     "user": {
      "displayName": "Al Amin",
      "photoUrl": "https://lh3.googleusercontent.com/a-/AOh14GiMB6CqgQqINGrgkLYU8ftIloMfHO5LgiFZgCAUSg=s64",
      "userId": "17120997331533597303"
     },
     "user_tz": -360
    },
    "id": "qav2TKno2_8f",
    "outputId": "4f1084de-7657-43dd-d542-d62fc06c27e8"
   },
   "outputs": [
    {
     "data": {
      "text/plain": [
       "(13200, 7)"
      ]
     },
     "execution_count": 34,
     "metadata": {
      "tags": []
     },
     "output_type": "execute_result"
    }
   ],
   "source": [
    "ex_df.shape"
   ]
  },
  {
   "cell_type": "code",
   "execution_count": 35,
   "metadata": {
    "colab": {
     "base_uri": "https://localhost:8080/"
    },
    "executionInfo": {
     "elapsed": 7280,
     "status": "ok",
     "timestamp": 1610256090789,
     "user": {
      "displayName": "Al Amin",
      "photoUrl": "https://lh3.googleusercontent.com/a-/AOh14GiMB6CqgQqINGrgkLYU8ftIloMfHO5LgiFZgCAUSg=s64",
      "userId": "17120997331533597303"
     },
     "user_tz": -360
    },
    "id": "WD3GijYF3DlP",
    "outputId": "ececdf23-6d02-4003-a0ed-f29923ae1367"
   },
   "outputs": [
    {
     "data": {
      "text/plain": [
       "150"
      ]
     },
     "execution_count": 35,
     "metadata": {
      "tags": []
     },
     "output_type": "execute_result"
    }
   ],
   "source": [
    "# we remove total 28 outliers\n",
    "ex_df.shape[0] - ex_df2.shape[0]"
   ]
  },
  {
   "cell_type": "markdown",
   "metadata": {
    "id": "mPguKgl23UyL"
   },
   "source": [
    "# **Now remove outliers using 4 standard deviation**"
   ]
  },
  {
   "cell_type": "code",
   "execution_count": 36,
   "metadata": {
    "colab": {
     "base_uri": "https://localhost:8080/"
    },
    "executionInfo": {
     "elapsed": 7260,
     "status": "ok",
     "timestamp": 1610256090792,
     "user": {
      "displayName": "Al Amin",
      "photoUrl": "https://lh3.googleusercontent.com/a-/AOh14GiMB6CqgQqINGrgkLYU8ftIloMfHO5LgiFZgCAUSg=s64",
      "userId": "17120997331533597303"
     },
     "user_tz": -360
    },
    "id": "9DQGlW8C3KVx",
    "outputId": "04dbf18d-c79c-4879-fda3-3bf14d5702ac"
   },
   "outputs": [
    {
     "data": {
      "text/plain": [
       "7920.336742424242"
      ]
     },
     "execution_count": 36,
     "metadata": {
      "tags": []
     },
     "output_type": "execute_result"
    }
   ],
   "source": [
    "ex_df.price_per_sqft.mean()"
   ]
  },
  {
   "cell_type": "code",
   "execution_count": 37,
   "metadata": {
    "colab": {
     "base_uri": "https://localhost:8080/"
    },
    "executionInfo": {
     "elapsed": 7244,
     "status": "ok",
     "timestamp": 1610256090794,
     "user": {
      "displayName": "Al Amin",
      "photoUrl": "https://lh3.googleusercontent.com/a-/AOh14GiMB6CqgQqINGrgkLYU8ftIloMfHO5LgiFZgCAUSg=s64",
      "userId": "17120997331533597303"
     },
     "user_tz": -360
    },
    "id": "g2xuF9uM3qFu",
    "outputId": "0b836a91-57fc-400e-e91f-616a1217a204"
   },
   "outputs": [
    {
     "data": {
      "text/plain": [
       "106727.16032810845"
      ]
     },
     "execution_count": 37,
     "metadata": {
      "tags": []
     },
     "output_type": "execute_result"
    }
   ],
   "source": [
    "ex_df.price_per_sqft.std()"
   ]
  },
  {
   "cell_type": "code",
   "execution_count": 38,
   "metadata": {
    "colab": {
     "base_uri": "https://localhost:8080/"
    },
    "executionInfo": {
     "elapsed": 7249,
     "status": "ok",
     "timestamp": 1610256090817,
     "user": {
      "displayName": "Al Amin",
      "photoUrl": "https://lh3.googleusercontent.com/a-/AOh14GiMB6CqgQqINGrgkLYU8ftIloMfHO5LgiFZgCAUSg=s64",
      "userId": "17120997331533597303"
     },
     "user_tz": -360
    },
    "id": "RHJmiQyE3s_t",
    "outputId": "b66c6089-402d-4019-ae1a-ddb6ad3e109e"
   },
   "outputs": [
    {
     "data": {
      "text/plain": [
       "(-9849.944576654545, 23258.824729911248)"
      ]
     },
     "execution_count": 38,
     "metadata": {
      "tags": []
     },
     "output_type": "execute_result"
    }
   ],
   "source": [
    "max_limit = ex_df2.price_per_sqft.mean() + 4*ex_df2.price_per_sqft.std()\n",
    "min_limit = ex_df2.price_per_sqft.mean() - 4*ex_df2.price_per_sqft.std()\n",
    "min_limit,max_limit"
   ]
  },
  {
   "cell_type": "code",
   "execution_count": 39,
   "metadata": {
    "colab": {
     "base_uri": "https://localhost:8080/",
     "height": 359
    },
    "executionInfo": {
     "elapsed": 7224,
     "status": "ok",
     "timestamp": 1610256090819,
     "user": {
      "displayName": "Al Amin",
      "photoUrl": "https://lh3.googleusercontent.com/a-/AOh14GiMB6CqgQqINGrgkLYU8ftIloMfHO5LgiFZgCAUSg=s64",
      "userId": "17120997331533597303"
     },
     "user_tz": -360
    },
    "id": "WH4F_i9C4NUh",
    "outputId": "a9f31c4c-188e-44a4-948b-374b0ead1ed7"
   },
   "outputs": [
    {
     "data": {
      "text/html": [
       "<div>\n",
       "<style scoped>\n",
       "    .dataframe tbody tr th:only-of-type {\n",
       "        vertical-align: middle;\n",
       "    }\n",
       "\n",
       "    .dataframe tbody tr th {\n",
       "        vertical-align: top;\n",
       "    }\n",
       "\n",
       "    .dataframe thead th {\n",
       "        text-align: right;\n",
       "    }\n",
       "</style>\n",
       "<table border=\"1\" class=\"dataframe\">\n",
       "  <thead>\n",
       "    <tr style=\"text-align: right;\">\n",
       "      <th></th>\n",
       "      <th>location</th>\n",
       "      <th>size</th>\n",
       "      <th>total_sqft</th>\n",
       "      <th>bath</th>\n",
       "      <th>price</th>\n",
       "      <th>bhk</th>\n",
       "      <th>price_per_sqft</th>\n",
       "    </tr>\n",
       "  </thead>\n",
       "  <tbody>\n",
       "    <tr>\n",
       "      <th>2371</th>\n",
       "      <td>other</td>\n",
       "      <td>5 Bedroom</td>\n",
       "      <td>3000.0</td>\n",
       "      <td>6.0</td>\n",
       "      <td>1000.0</td>\n",
       "      <td>5</td>\n",
       "      <td>33333</td>\n",
       "    </tr>\n",
       "    <tr>\n",
       "      <th>12631</th>\n",
       "      <td>Rajaji Nagar</td>\n",
       "      <td>5 Bedroom</td>\n",
       "      <td>2500.0</td>\n",
       "      <td>4.0</td>\n",
       "      <td>650.0</td>\n",
       "      <td>5</td>\n",
       "      <td>26000</td>\n",
       "    </tr>\n",
       "    <tr>\n",
       "      <th>9791</th>\n",
       "      <td>other</td>\n",
       "      <td>4 Bedroom</td>\n",
       "      <td>1200.0</td>\n",
       "      <td>5.0</td>\n",
       "      <td>325.0</td>\n",
       "      <td>4</td>\n",
       "      <td>27083</td>\n",
       "    </tr>\n",
       "    <tr>\n",
       "      <th>13186</th>\n",
       "      <td>other</td>\n",
       "      <td>4 Bedroom</td>\n",
       "      <td>1200.0</td>\n",
       "      <td>5.0</td>\n",
       "      <td>325.0</td>\n",
       "      <td>4</td>\n",
       "      <td>27083</td>\n",
       "    </tr>\n",
       "    <tr>\n",
       "      <th>6709</th>\n",
       "      <td>Malleshwaram</td>\n",
       "      <td>4 Bedroom</td>\n",
       "      <td>4000.0</td>\n",
       "      <td>4.0</td>\n",
       "      <td>1100.0</td>\n",
       "      <td>4</td>\n",
       "      <td>27500</td>\n",
       "    </tr>\n",
       "    <tr>\n",
       "      <th>6109</th>\n",
       "      <td>HRBR Layout</td>\n",
       "      <td>6 Bedroom</td>\n",
       "      <td>1000.0</td>\n",
       "      <td>6.0</td>\n",
       "      <td>275.0</td>\n",
       "      <td>6</td>\n",
       "      <td>27500</td>\n",
       "    </tr>\n",
       "    <tr>\n",
       "      <th>2825</th>\n",
       "      <td>HBR Layout</td>\n",
       "      <td>9 Bedroom</td>\n",
       "      <td>1200.0</td>\n",
       "      <td>6.0</td>\n",
       "      <td>280.0</td>\n",
       "      <td>9</td>\n",
       "      <td>23333</td>\n",
       "    </tr>\n",
       "    <tr>\n",
       "      <th>7643</th>\n",
       "      <td>other</td>\n",
       "      <td>4 BHK</td>\n",
       "      <td>5422.0</td>\n",
       "      <td>6.0</td>\n",
       "      <td>1900.0</td>\n",
       "      <td>4</td>\n",
       "      <td>35042</td>\n",
       "    </tr>\n",
       "    <tr>\n",
       "      <th>1078</th>\n",
       "      <td>other</td>\n",
       "      <td>4 Bedroom</td>\n",
       "      <td>2400.0</td>\n",
       "      <td>5.0</td>\n",
       "      <td>775.0</td>\n",
       "      <td>4</td>\n",
       "      <td>32291</td>\n",
       "    </tr>\n",
       "    <tr>\n",
       "      <th>8595</th>\n",
       "      <td>other</td>\n",
       "      <td>3 Bedroom</td>\n",
       "      <td>1200.0</td>\n",
       "      <td>2.0</td>\n",
       "      <td>300.0</td>\n",
       "      <td>3</td>\n",
       "      <td>25000</td>\n",
       "    </tr>\n",
       "  </tbody>\n",
       "</table>\n",
       "</div>"
      ],
      "text/plain": [
       "           location       size  total_sqft  bath   price  bhk  price_per_sqft\n",
       "2371          other  5 Bedroom      3000.0   6.0  1000.0    5           33333\n",
       "12631  Rajaji Nagar  5 Bedroom      2500.0   4.0   650.0    5           26000\n",
       "9791          other  4 Bedroom      1200.0   5.0   325.0    4           27083\n",
       "13186         other  4 Bedroom      1200.0   5.0   325.0    4           27083\n",
       "6709   Malleshwaram  4 Bedroom      4000.0   4.0  1100.0    4           27500\n",
       "6109    HRBR Layout  6 Bedroom      1000.0   6.0   275.0    6           27500\n",
       "2825     HBR Layout  9 Bedroom      1200.0   6.0   280.0    9           23333\n",
       "7643          other      4 BHK      5422.0   6.0  1900.0    4           35042\n",
       "1078          other  4 Bedroom      2400.0   5.0   775.0    4           32291\n",
       "8595          other  3 Bedroom      1200.0   2.0   300.0    3           25000"
      ]
     },
     "execution_count": 39,
     "metadata": {
      "tags": []
     },
     "output_type": "execute_result"
    }
   ],
   "source": [
    "ex_df2[(ex_df2.price_per_sqft<min_limit) | (ex_df2.price_per_sqft>max_limit)].sample(10)"
   ]
  },
  {
   "cell_type": "code",
   "execution_count": 40,
   "metadata": {
    "colab": {
     "base_uri": "https://localhost:8080/",
     "height": 419
    },
    "executionInfo": {
     "elapsed": 7202,
     "status": "ok",
     "timestamp": 1610256090820,
     "user": {
      "displayName": "Al Amin",
      "photoUrl": "https://lh3.googleusercontent.com/a-/AOh14GiMB6CqgQqINGrgkLYU8ftIloMfHO5LgiFZgCAUSg=s64",
      "userId": "17120997331533597303"
     },
     "user_tz": -360
    },
    "id": "tPf2mWRL5HyU",
    "outputId": "badcee5f-e0e6-4e8a-e8da-66e5d8fa477d"
   },
   "outputs": [
    {
     "data": {
      "text/html": [
       "<div>\n",
       "<style scoped>\n",
       "    .dataframe tbody tr th:only-of-type {\n",
       "        vertical-align: middle;\n",
       "    }\n",
       "\n",
       "    .dataframe tbody tr th {\n",
       "        vertical-align: top;\n",
       "    }\n",
       "\n",
       "    .dataframe thead th {\n",
       "        text-align: right;\n",
       "    }\n",
       "</style>\n",
       "<table border=\"1\" class=\"dataframe\">\n",
       "  <thead>\n",
       "    <tr style=\"text-align: right;\">\n",
       "      <th></th>\n",
       "      <th>location</th>\n",
       "      <th>size</th>\n",
       "      <th>total_sqft</th>\n",
       "      <th>bath</th>\n",
       "      <th>price</th>\n",
       "      <th>bhk</th>\n",
       "      <th>price_per_sqft</th>\n",
       "    </tr>\n",
       "  </thead>\n",
       "  <tbody>\n",
       "    <tr>\n",
       "      <th>0</th>\n",
       "      <td>Electronic City Phase II</td>\n",
       "      <td>2 BHK</td>\n",
       "      <td>1056.0</td>\n",
       "      <td>2.0</td>\n",
       "      <td>39.07</td>\n",
       "      <td>2</td>\n",
       "      <td>3699</td>\n",
       "    </tr>\n",
       "    <tr>\n",
       "      <th>1</th>\n",
       "      <td>Chikka Tirupathi</td>\n",
       "      <td>4 Bedroom</td>\n",
       "      <td>2600.0</td>\n",
       "      <td>5.0</td>\n",
       "      <td>120.00</td>\n",
       "      <td>4</td>\n",
       "      <td>4615</td>\n",
       "    </tr>\n",
       "    <tr>\n",
       "      <th>2</th>\n",
       "      <td>Uttarahalli</td>\n",
       "      <td>3 BHK</td>\n",
       "      <td>1440.0</td>\n",
       "      <td>2.0</td>\n",
       "      <td>62.00</td>\n",
       "      <td>3</td>\n",
       "      <td>4305</td>\n",
       "    </tr>\n",
       "    <tr>\n",
       "      <th>3</th>\n",
       "      <td>Lingadheeranahalli</td>\n",
       "      <td>3 BHK</td>\n",
       "      <td>1521.0</td>\n",
       "      <td>3.0</td>\n",
       "      <td>95.00</td>\n",
       "      <td>3</td>\n",
       "      <td>6245</td>\n",
       "    </tr>\n",
       "    <tr>\n",
       "      <th>4</th>\n",
       "      <td>Kothanur</td>\n",
       "      <td>2 BHK</td>\n",
       "      <td>1200.0</td>\n",
       "      <td>2.0</td>\n",
       "      <td>51.00</td>\n",
       "      <td>2</td>\n",
       "      <td>4250</td>\n",
       "    </tr>\n",
       "    <tr>\n",
       "      <th>...</th>\n",
       "      <td>...</td>\n",
       "      <td>...</td>\n",
       "      <td>...</td>\n",
       "      <td>...</td>\n",
       "      <td>...</td>\n",
       "      <td>...</td>\n",
       "      <td>...</td>\n",
       "    </tr>\n",
       "    <tr>\n",
       "      <th>13195</th>\n",
       "      <td>Whitefield</td>\n",
       "      <td>5 Bedroom</td>\n",
       "      <td>3453.0</td>\n",
       "      <td>4.0</td>\n",
       "      <td>231.00</td>\n",
       "      <td>5</td>\n",
       "      <td>6689</td>\n",
       "    </tr>\n",
       "    <tr>\n",
       "      <th>13196</th>\n",
       "      <td>other</td>\n",
       "      <td>4 BHK</td>\n",
       "      <td>3600.0</td>\n",
       "      <td>5.0</td>\n",
       "      <td>400.00</td>\n",
       "      <td>4</td>\n",
       "      <td>11111</td>\n",
       "    </tr>\n",
       "    <tr>\n",
       "      <th>13197</th>\n",
       "      <td>Raja Rajeshwari Nagar</td>\n",
       "      <td>2 BHK</td>\n",
       "      <td>1141.0</td>\n",
       "      <td>2.0</td>\n",
       "      <td>60.00</td>\n",
       "      <td>2</td>\n",
       "      <td>5258</td>\n",
       "    </tr>\n",
       "    <tr>\n",
       "      <th>13198</th>\n",
       "      <td>Padmanabhanagar</td>\n",
       "      <td>4 BHK</td>\n",
       "      <td>4689.0</td>\n",
       "      <td>4.0</td>\n",
       "      <td>488.00</td>\n",
       "      <td>4</td>\n",
       "      <td>10407</td>\n",
       "    </tr>\n",
       "    <tr>\n",
       "      <th>13199</th>\n",
       "      <td>Doddathoguru</td>\n",
       "      <td>1 BHK</td>\n",
       "      <td>550.0</td>\n",
       "      <td>1.0</td>\n",
       "      <td>17.00</td>\n",
       "      <td>1</td>\n",
       "      <td>3090</td>\n",
       "    </tr>\n",
       "  </tbody>\n",
       "</table>\n",
       "<p>12925 rows × 7 columns</p>\n",
       "</div>"
      ],
      "text/plain": [
       "                       location       size  ...  bhk  price_per_sqft\n",
       "0      Electronic City Phase II      2 BHK  ...    2            3699\n",
       "1              Chikka Tirupathi  4 Bedroom  ...    4            4615\n",
       "2                   Uttarahalli      3 BHK  ...    3            4305\n",
       "3            Lingadheeranahalli      3 BHK  ...    3            6245\n",
       "4                      Kothanur      2 BHK  ...    2            4250\n",
       "...                         ...        ...  ...  ...             ...\n",
       "13195                Whitefield  5 Bedroom  ...    5            6689\n",
       "13196                     other      4 BHK  ...    4           11111\n",
       "13197     Raja Rajeshwari Nagar      2 BHK  ...    2            5258\n",
       "13198           Padmanabhanagar      4 BHK  ...    4           10407\n",
       "13199              Doddathoguru      1 BHK  ...    1            3090\n",
       "\n",
       "[12925 rows x 7 columns]"
      ]
     },
     "execution_count": 40,
     "metadata": {
      "tags": []
     },
     "output_type": "execute_result"
    }
   ],
   "source": [
    "ex_df3 = ex_df2[(ex_df2.price_per_sqft>min_limit) & (ex_df2.price_per_sqft<max_limit)]\n",
    "ex_df3"
   ]
  },
  {
   "cell_type": "code",
   "execution_count": 41,
   "metadata": {
    "colab": {
     "base_uri": "https://localhost:8080/"
    },
    "executionInfo": {
     "elapsed": 7192,
     "status": "ok",
     "timestamp": 1610256090830,
     "user": {
      "displayName": "Al Amin",
      "photoUrl": "https://lh3.googleusercontent.com/a-/AOh14GiMB6CqgQqINGrgkLYU8ftIloMfHO5LgiFZgCAUSg=s64",
      "userId": "17120997331533597303"
     },
     "user_tz": -360
    },
    "id": "L9gNujdB5UJL",
    "outputId": "e538623d-47c1-4ccc-8ad2-6c3be32040d5"
   },
   "outputs": [
    {
     "data": {
      "text/plain": [
       "(12925, 7)"
      ]
     },
     "execution_count": 41,
     "metadata": {
      "tags": []
     },
     "output_type": "execute_result"
    }
   ],
   "source": [
    "ex_df3.shape"
   ]
  },
  {
   "cell_type": "code",
   "execution_count": 42,
   "metadata": {
    "colab": {
     "base_uri": "https://localhost:8080/"
    },
    "executionInfo": {
     "elapsed": 7174,
     "status": "ok",
     "timestamp": 1610256090831,
     "user": {
      "displayName": "Al Amin",
      "photoUrl": "https://lh3.googleusercontent.com/a-/AOh14GiMB6CqgQqINGrgkLYU8ftIloMfHO5LgiFZgCAUSg=s64",
      "userId": "17120997331533597303"
     },
     "user_tz": -360
    },
    "id": "PPuv5AVi5Yc6",
    "outputId": "6576c0fb-c6f0-4bac-b706-2200d29ab92a"
   },
   "outputs": [
    {
     "data": {
      "text/plain": [
       "125"
      ]
     },
     "execution_count": 42,
     "metadata": {
      "tags": []
     },
     "output_type": "execute_result"
    }
   ],
   "source": [
    "# we remove 125 outliers\n",
    "ex_df2.shape[0] - ex_df3.shape[0]"
   ]
  },
  {
   "cell_type": "code",
   "execution_count": 43,
   "metadata": {
    "colab": {
     "base_uri": "https://localhost:8080/",
     "height": 506
    },
    "executionInfo": {
     "elapsed": 7160,
     "status": "ok",
     "timestamp": 1610256090843,
     "user": {
      "displayName": "Al Amin",
      "photoUrl": "https://lh3.googleusercontent.com/a-/AOh14GiMB6CqgQqINGrgkLYU8ftIloMfHO5LgiFZgCAUSg=s64",
      "userId": "17120997331533597303"
     },
     "user_tz": -360
    },
    "id": "Wid6atck5e07",
    "outputId": "af95347b-99f0-4fbf-9c8e-174506e7a28f"
   },
   "outputs": [
    {
     "data": {
      "image/png": "[encoded data removed]",
      "text/plain": [
       "<Figure size 720x576 with 1 Axes>"
      ]
     },
     "metadata": {
      "tags": []
     },
     "output_type": "display_data"
    }
   ],
   "source": [
    "plt.figure(figsize=(10,8))\n",
    "plt.hist(ex_df3.price_per_sqft, bins=20, rwidth=0.8)\n",
    "plt.xlabel('Price per square ft')\n",
    "plt.ylabel('Count')\n",
    "plt.show()"
   ]
  },
  {
   "cell_type": "code",
   "execution_count": 44,
   "metadata": {
    "colab": {
     "base_uri": "https://localhost:8080/",
     "height": 502
    },
    "executionInfo": {
     "elapsed": 8050,
     "status": "ok",
     "timestamp": 1610256091757,
     "user": {
      "displayName": "Al Amin",
      "photoUrl": "https://lh3.googleusercontent.com/a-/AOh14GiMB6CqgQqINGrgkLYU8ftIloMfHO5LgiFZgCAUSg=s64",
      "userId": "17120997331533597303"
     },
     "user_tz": -360
    },
    "id": "V0ryYNsm5wEW",
    "outputId": "0f57d924-2579-4d3e-f938-ab776e491615"
   },
   "outputs": [
    {
     "data": {
      "image/png": "[encoded data removed]",
      "text/plain": [
       "<Figure size 720x576 with 1 Axes>"
      ]
     },
     "metadata": {
      "tags": []
     },
     "output_type": "display_data"
    }
   ],
   "source": [
    "from scipy.stats import norm\n",
    "import numpy as np\n",
    "plt.figure(figsize=(10,8))\n",
    "plt.hist(ex_df3.price_per_sqft, bins=20, rwidth=0.8, density=True)\n",
    "plt.xlabel('Height (inches)')\n",
    "plt.ylabel('Count')\n",
    "rng = np.arange(-5000, ex_df3.price_per_sqft.max(), 100)\n",
    "plt.plot(rng, norm.pdf(rng,ex_df3.price_per_sqft.mean(),ex_df3.price_per_sqft.std()))\n",
    "plt.show()"
   ]
  },
  {
   "cell_type": "markdown",
   "metadata": {
    "id": "QooEvMV96fd6"
   },
   "source": [
    "# (3) Now remove outliers using z score. Use z score of 4 as your **thresold**"
   ]
  },
  {
   "cell_type": "code",
   "execution_count": 45,
   "metadata": {
    "executionInfo": {
     "elapsed": 8049,
     "status": "ok",
     "timestamp": 1610256091762,
     "user": {
      "displayName": "Al Amin",
      "photoUrl": "https://lh3.googleusercontent.com/a-/AOh14GiMB6CqgQqINGrgkLYU8ftIloMfHO5LgiFZgCAUSg=s64",
      "userId": "17120997331533597303"
     },
     "user_tz": -360
    },
    "id": "EgnnB14N7Yt2"
   },
   "outputs": [],
   "source": [
    "import warnings\n",
    "warnings.filterwarnings(action=\"ignore\")"
   ]
  },
  {
   "cell_type": "code",
   "execution_count": 46,
   "metadata": {
    "colab": {
     "base_uri": "https://localhost:8080/",
     "height": 359
    },
    "executionInfo": {
     "elapsed": 8029,
     "status": "ok",
     "timestamp": 1610256091764,
     "user": {
      "displayName": "Al Amin",
      "photoUrl": "https://lh3.googleusercontent.com/a-/AOh14GiMB6CqgQqINGrgkLYU8ftIloMfHO5LgiFZgCAUSg=s64",
      "userId": "17120997331533597303"
     },
     "user_tz": -360
    },
    "id": "Gly02QrR6Q1X",
    "outputId": "e81449d2-0fac-482f-e014-fc7564ddf16a"
   },
   "outputs": [
    {
     "data": {
      "text/html": [
       "<div>\n",
       "<style scoped>\n",
       "    .dataframe tbody tr th:only-of-type {\n",
       "        vertical-align: middle;\n",
       "    }\n",
       "\n",
       "    .dataframe tbody tr th {\n",
       "        vertical-align: top;\n",
       "    }\n",
       "\n",
       "    .dataframe thead th {\n",
       "        text-align: right;\n",
       "    }\n",
       "</style>\n",
       "<table border=\"1\" class=\"dataframe\">\n",
       "  <thead>\n",
       "    <tr style=\"text-align: right;\">\n",
       "      <th></th>\n",
       "      <th>location</th>\n",
       "      <th>size</th>\n",
       "      <th>total_sqft</th>\n",
       "      <th>bath</th>\n",
       "      <th>price</th>\n",
       "      <th>bhk</th>\n",
       "      <th>price_per_sqft</th>\n",
       "      <th>z_score</th>\n",
       "    </tr>\n",
       "  </thead>\n",
       "  <tbody>\n",
       "    <tr>\n",
       "      <th>222</th>\n",
       "      <td>other</td>\n",
       "      <td>3 BHK</td>\n",
       "      <td>2405.0</td>\n",
       "      <td>4.0</td>\n",
       "      <td>260.00</td>\n",
       "      <td>3</td>\n",
       "      <td>10810</td>\n",
       "      <td>0.992018</td>\n",
       "    </tr>\n",
       "    <tr>\n",
       "      <th>4350</th>\n",
       "      <td>other</td>\n",
       "      <td>5 Bedroom</td>\n",
       "      <td>1750.0</td>\n",
       "      <td>5.0</td>\n",
       "      <td>450.00</td>\n",
       "      <td>5</td>\n",
       "      <td>25714</td>\n",
       "      <td>4.593239</td>\n",
       "    </tr>\n",
       "    <tr>\n",
       "      <th>2941</th>\n",
       "      <td>Ardendale</td>\n",
       "      <td>2 BHK</td>\n",
       "      <td>1100.0</td>\n",
       "      <td>2.0</td>\n",
       "      <td>48.00</td>\n",
       "      <td>2</td>\n",
       "      <td>4363</td>\n",
       "      <td>-0.565757</td>\n",
       "    </tr>\n",
       "    <tr>\n",
       "      <th>2385</th>\n",
       "      <td>TC Palaya</td>\n",
       "      <td>2 Bedroom</td>\n",
       "      <td>1000.0</td>\n",
       "      <td>2.0</td>\n",
       "      <td>64.00</td>\n",
       "      <td>2</td>\n",
       "      <td>6400</td>\n",
       "      <td>-0.073561</td>\n",
       "    </tr>\n",
       "    <tr>\n",
       "      <th>4650</th>\n",
       "      <td>Begur Road</td>\n",
       "      <td>2 BHK</td>\n",
       "      <td>1225.0</td>\n",
       "      <td>2.0</td>\n",
       "      <td>35.52</td>\n",
       "      <td>2</td>\n",
       "      <td>2899</td>\n",
       "      <td>-0.919500</td>\n",
       "    </tr>\n",
       "    <tr>\n",
       "      <th>8422</th>\n",
       "      <td>Vittasandra</td>\n",
       "      <td>2 BHK</td>\n",
       "      <td>1404.0</td>\n",
       "      <td>2.0</td>\n",
       "      <td>75.00</td>\n",
       "      <td>2</td>\n",
       "      <td>5341</td>\n",
       "      <td>-0.329445</td>\n",
       "    </tr>\n",
       "    <tr>\n",
       "      <th>11038</th>\n",
       "      <td>Rajiv Nagar</td>\n",
       "      <td>2 BHK</td>\n",
       "      <td>972.0</td>\n",
       "      <td>2.0</td>\n",
       "      <td>43.00</td>\n",
       "      <td>2</td>\n",
       "      <td>4423</td>\n",
       "      <td>-0.551259</td>\n",
       "    </tr>\n",
       "    <tr>\n",
       "      <th>8290</th>\n",
       "      <td>Balagere</td>\n",
       "      <td>2 BHK</td>\n",
       "      <td>1012.0</td>\n",
       "      <td>2.0</td>\n",
       "      <td>53.58</td>\n",
       "      <td>2</td>\n",
       "      <td>5294</td>\n",
       "      <td>-0.340802</td>\n",
       "    </tr>\n",
       "    <tr>\n",
       "      <th>5012</th>\n",
       "      <td>other</td>\n",
       "      <td>4 Bedroom</td>\n",
       "      <td>750.0</td>\n",
       "      <td>4.0</td>\n",
       "      <td>85.00</td>\n",
       "      <td>4</td>\n",
       "      <td>11333</td>\n",
       "      <td>1.118389</td>\n",
       "    </tr>\n",
       "    <tr>\n",
       "      <th>2323</th>\n",
       "      <td>Sarjapur  Road</td>\n",
       "      <td>4 BHK</td>\n",
       "      <td>4395.0</td>\n",
       "      <td>4.0</td>\n",
       "      <td>242.00</td>\n",
       "      <td>4</td>\n",
       "      <td>5506</td>\n",
       "      <td>-0.289576</td>\n",
       "    </tr>\n",
       "  </tbody>\n",
       "</table>\n",
       "</div>"
      ],
      "text/plain": [
       "             location       size  total_sqft  ...  bhk  price_per_sqft   z_score\n",
       "222             other      3 BHK      2405.0  ...    3           10810  0.992018\n",
       "4350            other  5 Bedroom      1750.0  ...    5           25714  4.593239\n",
       "2941        Ardendale      2 BHK      1100.0  ...    2            4363 -0.565757\n",
       "2385        TC Palaya  2 Bedroom      1000.0  ...    2            6400 -0.073561\n",
       "4650       Begur Road      2 BHK      1225.0  ...    2            2899 -0.919500\n",
       "8422      Vittasandra      2 BHK      1404.0  ...    2            5341 -0.329445\n",
       "11038     Rajiv Nagar      2 BHK       972.0  ...    2            4423 -0.551259\n",
       "8290         Balagere      2 BHK      1012.0  ...    2            5294 -0.340802\n",
       "5012            other  4 Bedroom       750.0  ...    4           11333  1.118389\n",
       "2323   Sarjapur  Road      4 BHK      4395.0  ...    4            5506 -0.289576\n",
       "\n",
       "[10 rows x 8 columns]"
      ]
     },
     "execution_count": 46,
     "metadata": {
      "tags": []
     },
     "output_type": "execute_result"
    }
   ],
   "source": [
    "ex_df2['z_score'] = (ex_df2.price_per_sqft-ex_df2.price_per_sqft.mean())/ex_df2.price_per_sqft.std()\n",
    "ex_df2.sample(10)"
   ]
  },
  {
   "cell_type": "code",
   "execution_count": 47,
   "metadata": {
    "colab": {
     "base_uri": "https://localhost:8080/"
    },
    "executionInfo": {
     "elapsed": 8010,
     "status": "ok",
     "timestamp": 1610256091766,
     "user": {
      "displayName": "Al Amin",
      "photoUrl": "https://lh3.googleusercontent.com/a-/AOh14GiMB6CqgQqINGrgkLYU8ftIloMfHO5LgiFZgCAUSg=s64",
      "userId": "17120997331533597303"
     },
     "user_tz": -360
    },
    "id": "upZLNKyp6_Rc",
    "outputId": "7e75eb41-4c09-485e-beae-6913938fa062"
   },
   "outputs": [
    {
     "data": {
      "text/plain": [
       "(125, 8)"
      ]
     },
     "execution_count": 47,
     "metadata": {
      "tags": []
     },
     "output_type": "execute_result"
    }
   ],
   "source": [
    "outliers_z = ex_df2[(ex_df2.z_score < -4) | (ex_df2.z_score>4)]\n",
    "outliers_z.shape"
   ]
  },
  {
   "cell_type": "code",
   "execution_count": 48,
   "metadata": {
    "colab": {
     "base_uri": "https://localhost:8080/",
     "height": 359
    },
    "executionInfo": {
     "elapsed": 7989,
     "status": "ok",
     "timestamp": 1610256091768,
     "user": {
      "displayName": "Al Amin",
      "photoUrl": "https://lh3.googleusercontent.com/a-/AOh14GiMB6CqgQqINGrgkLYU8ftIloMfHO5LgiFZgCAUSg=s64",
      "userId": "17120997331533597303"
     },
     "user_tz": -360
    },
    "id": "u1YWECdB77sJ",
    "outputId": "258f0a68-f491-47bf-f9e2-9892361060c3"
   },
   "outputs": [
    {
     "data": {
      "text/html": [
       "<div>\n",
       "<style scoped>\n",
       "    .dataframe tbody tr th:only-of-type {\n",
       "        vertical-align: middle;\n",
       "    }\n",
       "\n",
       "    .dataframe tbody tr th {\n",
       "        vertical-align: top;\n",
       "    }\n",
       "\n",
       "    .dataframe thead th {\n",
       "        text-align: right;\n",
       "    }\n",
       "</style>\n",
       "<table border=\"1\" class=\"dataframe\">\n",
       "  <thead>\n",
       "    <tr style=\"text-align: right;\">\n",
       "      <th></th>\n",
       "      <th>location</th>\n",
       "      <th>size</th>\n",
       "      <th>total_sqft</th>\n",
       "      <th>bath</th>\n",
       "      <th>price</th>\n",
       "      <th>bhk</th>\n",
       "      <th>price_per_sqft</th>\n",
       "      <th>z_score</th>\n",
       "    </tr>\n",
       "  </thead>\n",
       "  <tbody>\n",
       "    <tr>\n",
       "      <th>7908</th>\n",
       "      <td>HAL 2nd Stage</td>\n",
       "      <td>7 Bedroom</td>\n",
       "      <td>1000.00</td>\n",
       "      <td>7.0</td>\n",
       "      <td>250.0</td>\n",
       "      <td>7</td>\n",
       "      <td>25000</td>\n",
       "      <td>4.420716</td>\n",
       "    </tr>\n",
       "    <tr>\n",
       "      <th>3816</th>\n",
       "      <td>Domlur</td>\n",
       "      <td>6 BHK</td>\n",
       "      <td>2400.00</td>\n",
       "      <td>4.0</td>\n",
       "      <td>600.0</td>\n",
       "      <td>6</td>\n",
       "      <td>25000</td>\n",
       "      <td>4.420716</td>\n",
       "    </tr>\n",
       "    <tr>\n",
       "      <th>4357</th>\n",
       "      <td>other</td>\n",
       "      <td>4 Bedroom</td>\n",
       "      <td>3250.00</td>\n",
       "      <td>5.0</td>\n",
       "      <td>850.0</td>\n",
       "      <td>4</td>\n",
       "      <td>26153</td>\n",
       "      <td>4.699313</td>\n",
       "    </tr>\n",
       "    <tr>\n",
       "      <th>9636</th>\n",
       "      <td>other</td>\n",
       "      <td>4 Bedroom</td>\n",
       "      <td>2100.00</td>\n",
       "      <td>3.0</td>\n",
       "      <td>1000.0</td>\n",
       "      <td>4</td>\n",
       "      <td>47619</td>\n",
       "      <td>9.886096</td>\n",
       "    </tr>\n",
       "    <tr>\n",
       "      <th>6864</th>\n",
       "      <td>5th Block Hbr Layout</td>\n",
       "      <td>9 Bedroom</td>\n",
       "      <td>2600.00</td>\n",
       "      <td>12.0</td>\n",
       "      <td>675.0</td>\n",
       "      <td>9</td>\n",
       "      <td>25961</td>\n",
       "      <td>4.652921</td>\n",
       "    </tr>\n",
       "    <tr>\n",
       "      <th>5639</th>\n",
       "      <td>other</td>\n",
       "      <td>3 BHK</td>\n",
       "      <td>2777.29</td>\n",
       "      <td>5.0</td>\n",
       "      <td>650.0</td>\n",
       "      <td>3</td>\n",
       "      <td>23404</td>\n",
       "      <td>4.035078</td>\n",
       "    </tr>\n",
       "    <tr>\n",
       "      <th>10465</th>\n",
       "      <td>Electronic City</td>\n",
       "      <td>4 Bedroom</td>\n",
       "      <td>1800.00</td>\n",
       "      <td>3.0</td>\n",
       "      <td>700.0</td>\n",
       "      <td>4</td>\n",
       "      <td>38888</td>\n",
       "      <td>7.776444</td>\n",
       "    </tr>\n",
       "    <tr>\n",
       "      <th>11696</th>\n",
       "      <td>other</td>\n",
       "      <td>4 Bedroom</td>\n",
       "      <td>2360.00</td>\n",
       "      <td>4.0</td>\n",
       "      <td>601.0</td>\n",
       "      <td>4</td>\n",
       "      <td>25466</td>\n",
       "      <td>4.533315</td>\n",
       "    </tr>\n",
       "    <tr>\n",
       "      <th>13013</th>\n",
       "      <td>other</td>\n",
       "      <td>4 Bedroom</td>\n",
       "      <td>1200.00</td>\n",
       "      <td>5.0</td>\n",
       "      <td>350.0</td>\n",
       "      <td>4</td>\n",
       "      <td>29166</td>\n",
       "      <td>5.427338</td>\n",
       "    </tr>\n",
       "    <tr>\n",
       "      <th>3340</th>\n",
       "      <td>other</td>\n",
       "      <td>19 BHK</td>\n",
       "      <td>2000.00</td>\n",
       "      <td>16.0</td>\n",
       "      <td>490.0</td>\n",
       "      <td>19</td>\n",
       "      <td>24500</td>\n",
       "      <td>4.299902</td>\n",
       "    </tr>\n",
       "  </tbody>\n",
       "</table>\n",
       "</div>"
      ],
      "text/plain": [
       "                   location       size  ...  price_per_sqft   z_score\n",
       "7908          HAL 2nd Stage  7 Bedroom  ...           25000  4.420716\n",
       "3816                 Domlur      6 BHK  ...           25000  4.420716\n",
       "4357                  other  4 Bedroom  ...           26153  4.699313\n",
       "9636                  other  4 Bedroom  ...           47619  9.886096\n",
       "6864   5th Block Hbr Layout  9 Bedroom  ...           25961  4.652921\n",
       "5639                  other      3 BHK  ...           23404  4.035078\n",
       "10465       Electronic City  4 Bedroom  ...           38888  7.776444\n",
       "11696                 other  4 Bedroom  ...           25466  4.533315\n",
       "13013                 other  4 Bedroom  ...           29166  5.427338\n",
       "3340                  other     19 BHK  ...           24500  4.299902\n",
       "\n",
       "[10 rows x 8 columns]"
      ]
     },
     "execution_count": 48,
     "metadata": {
      "tags": []
     },
     "output_type": "execute_result"
    }
   ],
   "source": [
    "outliers_z.sample(10)"
   ]
  },
  {
   "cell_type": "code",
   "execution_count": 49,
   "metadata": {
    "colab": {
     "base_uri": "https://localhost:8080/"
    },
    "executionInfo": {
     "elapsed": 7966,
     "status": "ok",
     "timestamp": 1610256091768,
     "user": {
      "displayName": "Al Amin",
      "photoUrl": "https://lh3.googleusercontent.com/a-/AOh14GiMB6CqgQqINGrgkLYU8ftIloMfHO5LgiFZgCAUSg=s64",
      "userId": "17120997331533597303"
     },
     "user_tz": -360
    },
    "id": "d-pARDes8HYT",
    "outputId": "8a166cf1-72c5-46fb-ce13-e1addd01db95"
   },
   "outputs": [
    {
     "data": {
      "text/plain": [
       "(12925, 8)"
      ]
     },
     "execution_count": 49,
     "metadata": {
      "tags": []
     },
     "output_type": "execute_result"
    }
   ],
   "source": [
    "after_remove_outliers = ex_df2[(ex_df2.z_score>-4)&(ex_df2.z_score<4)]\n",
    "after_remove_outliers.shape"
   ]
  },
  {
   "cell_type": "code",
   "execution_count": 50,
   "metadata": {
    "colab": {
     "base_uri": "https://localhost:8080/"
    },
    "executionInfo": {
     "elapsed": 7950,
     "status": "ok",
     "timestamp": 1610256091769,
     "user": {
      "displayName": "Al Amin",
      "photoUrl": "https://lh3.googleusercontent.com/a-/AOh14GiMB6CqgQqINGrgkLYU8ftIloMfHO5LgiFZgCAUSg=s64",
      "userId": "17120997331533597303"
     },
     "user_tz": -360
    },
    "id": "An8XBcCM8Vvl",
    "outputId": "8cf2af80-ff12-48ee-d99a-45f390b06e58"
   },
   "outputs": [
    {
     "data": {
      "text/plain": [
       "125"
      ]
     },
     "execution_count": 50,
     "metadata": {
      "tags": []
     },
     "output_type": "execute_result"
    }
   ],
   "source": [
    "ex_df2.shape[0] - after_remove_outliers.shape[0]"
   ]
  },
  {
   "cell_type": "code",
   "execution_count": 50,
   "metadata": {
    "executionInfo": {
     "elapsed": 7948,
     "status": "ok",
     "timestamp": 1610256091770,
     "user": {
      "displayName": "Al Amin",
      "photoUrl": "https://lh3.googleusercontent.com/a-/AOh14GiMB6CqgQqINGrgkLYU8ftIloMfHO5LgiFZgCAUSg=s64",
      "userId": "17120997331533597303"
     },
     "user_tz": -360
    },
    "id": "ArZRdaGZ8cVW"
   },
   "outputs": [],
   "source": []
  }
 ],
 "metadata": {
  "colab": {
   "authorship_tag": "ABX9TyP1UFlLQmicvYlnQn1p3bE6",
   "collapsed_sections": [],
   "mount_file_id": "1LWg5yhwf_C-bhUOvuBkLIgLKeHSB-JyY",
   "name": "Outliers_detection_using_Z-score.ipynb",
   "provenance": []
  },
  "kernelspec": {
   "display_name": "Python 3",
   "language": "python",
   "name": "python3"
  },
  "language_info": {
   "codemirror_mode": {
    "name": "ipython",
    "version": 3
   },
   "file_extension": ".py",
   "mimetype": "text/x-python",
   "name": "python",
   "nbconvert_exporter": "python",
   "pygments_lexer": "ipython3",
   "version": "3.9.2"
  }
 },
 "nbformat": 4,
 "nbformat_minor": 1
}
