{
  "nbformat": 4,
  "nbformat_minor": 0,
  "metadata": {
    "colab": {
      "provenance": [],
      "collapsed_sections": [],
      "authorship_tag": "ABX9TyNORr8gTYbJeFp4S7AAnE3j",
      "include_colab_link": true
    },
    "kernelspec": {
      "name": "python3",
      "display_name": "Python 3"
    }
  },
  "cells": [
    {
      "cell_type": "markdown",
      "metadata": {
        "id": "view-in-github",
        "colab_type": "text"
      },
      "source": [
        "<a href=\"https://colab.research.google.com/github/MadanBaduwal/feature-engineering/blob/main/2_short_note_Missing_data_imputation.ipynb\" target=\"_parent\"><img src=\"https://colab.research.google.com/assets/colab-badge.svg\" alt=\"Open In Colab\"/></a>"
      ]
    },
    {
      "cell_type": "markdown",
      "metadata": {
        "id": "FYoXW0KP0SXd"
      },
      "source": [
        "#Missing data\n"
      ]
    },
    {
      "cell_type": "markdown",
      "metadata": {
        "id": "MLpErQL1Exl6"
      },
      "source": [
        "## 1. Types\n"
      ]
    },
    {
      "cell_type": "markdown",
      "metadata": {
        "id": "YUNugx4ltti0"
      },
      "source": [
        "Question: How to detect whether data is MCAR,MAR or MNAR?\n",
        "\n",
        "Answer : There is no particular method to find whether missing data is MCAR,MAR or MNAR. We find it from observation."
      ]
    },
    {
      "cell_type": "markdown",
      "metadata": {
        "id": "9S6nl8Q1FUb-"
      },
      "source": [
        "### 1.1 Missing completely at random(MCAR)\n",
        "\n",
        "* There is no relationship between missingness and either observed or unobserved covariates.\n",
        "* Under MCAR, missing data do not depend on either observed data or unobserved data.\n",
        "* Data are rarely MCAR."
      ]
    },
    {
      "cell_type": "markdown",
      "metadata": {
        "id": "YBlrS3EIFiS2"
      },
      "source": [
        "### 1.2. Missing  at random(MAR)\n",
        "\n",
        "* MAR occurs when the missingness depends on information we have already observed.\n",
        "\n",
        "* Missing data feature(variable) depend on another feature(variable).\n",
        "* Symmetric relation between observed data and missing data."
      ]
    },
    {
      "cell_type": "markdown",
      "metadata": {
        "id": "is3UanxLFrFp"
      },
      "source": [
        "### 1.3. Missing not at random(MNAR)-Basically we do this method here\n",
        "\n",
        "* MNAR is called “non-ignorable” because the missing data mechanism itself has to be modeled as you deal with the missing data.\n",
        "* Variable that missing is related to the reason it's missing."
      ]
    },
    {
      "cell_type": "markdown",
      "metadata": {
        "id": "SWUxTDW6JzK2"
      },
      "source": [
        "## 2. Techniques of dealing with missing data"
      ]
    },
    {
      "cell_type": "markdown",
      "metadata": {
        "id": "WQfJWsnGRL0P"
      },
      "source": [
        "### 2.1. Imputation(Note: Here we will discuss MNAR-missing depend on own variable| only)\n",
        "\n",
        "Note : \n",
        "**Some algorithm for data inputation are universal in all ai concept.**\n",
        "* **In data engineering we impute missing value by -KNN,linear interpolation,Mean,Median..**\n",
        "\n",
        "* **In computer vision - resizing image- ue use NN,linear interpolation,Mean,Median..**\n",
        "\n",
        "* **In NLP....**\n",
        "\n",
        "\n",
        "\n",
        "\n",
        "* If we have less data we need to impute data.\n",
        "* We need to impute data in MNAR.\n",
        "\n",
        "\n",
        "#### I. Single imputation (imputation with single features)\n",
        "\n",
        "Numerical\n",
        "\n",
        "* Mean,median,mode,random\n",
        "* Hot-and cold-deck\n",
        "* last and next observation\n",
        "* Impute using regression\n",
        "* Arbitary value imputation\n",
        "\n",
        "Categorical\n",
        "\n",
        "* KNN\n",
        "* Frequent value\n",
        "* Missing indicator(NAN-1,not NAN-0)\n",
        "\n",
        "Time series data\n",
        "\n",
        "* Mean,median,mode,random\n",
        "* linear interpolation\n",
        "* sensonal adjusment + interpolation\n",
        "\n",
        "#### II. Multiple inputation(imputation all missing data at a time)\n",
        "\n",
        "* EM(expectation maximization)-for MAR\n",
        "* Markov chain monte carlo(MCMC)\n",
        "\n",
        "\n",
        "\n",
        "\n",
        "\n"
      ]
    },
    {
      "cell_type": "markdown",
      "metadata": {
        "id": "3QZ_EQfGPXyo"
      },
      "source": [
        "### 2.2. Partial deletion\n",
        "\n",
        "* Delete pairwaise and list-wise(row or column)i.e delete rows,delete columns.\n",
        "* If data is in big ammount and MCAR or MAR we can delete.\n",
        "* if data is  1-5% missing data we can delete.\n",
        "\n",
        "   Example: 200 observation,10 feature(variable)\n",
        "\n",
        "   Case I : one-one data missing in each features , then loss=10/200=5% loss.\n",
        "   Case II: 10 datapoint miss in each features, then loss=100/200=50% loss."
      ]
    },
    {
      "cell_type": "markdown",
      "metadata": {
        "id": "Dy3zsBJYsetJ"
      },
      "source": [
        "### 2.3 Full analysis(sabia missing data lai akkaichoti fill garna khojnu)\n",
        "\n",
        "* EM(expectation maximization)-for MAR\n",
        "* Markov chain monte carlo(MCMC)"
      ]
    },
    {
      "cell_type": "markdown",
      "metadata": {
        "id": "86kpTEsDvaeT"
      },
      "source": [
        "## 3. Model-based techniques"
      ]
    },
    {
      "cell_type": "markdown",
      "metadata": {
        "id": "tYMB67pHJjCy"
      },
      "source": [
        "## How to detect"
      ]
    },
    {
      "cell_type": "markdown",
      "metadata": {
        "id": "YTJ62vQJOZ5a"
      },
      "source": [
        "* Nan- missing data\n",
        "\n",
        "* 0- zero is not missing value , it is value."
      ]
    },
    {
      "cell_type": "markdown",
      "metadata": {
        "id": "-w5JH1x2HUN9"
      },
      "source": [
        "# CODE"
      ]
    },
    {
      "cell_type": "markdown",
      "metadata": {
        "id": "LzC-C2obHV0O"
      },
      "source": [
        "##[PANDA](https://pandas.pydata.org/pandas-docs/stable/user_guide/missing_data.html)"
      ]
    },
    {
      "cell_type": "markdown",
      "metadata": {
        "id": "_0sLM75lwBNo"
      },
      "source": [
        "### Types\n",
        "* Note: i have a confusion ho to detect MCAR,MAR,MNAR , so here i assume MNAR\n",
        "* Here i do only single imputation"
      ]
    },
    {
      "cell_type": "code",
      "metadata": {
        "id": "1Pa0OPXNbkVU"
      },
      "source": [
        "import pandas as pd\n",
        "data=pd.read_csv('/content/sample_data/california_housing_test.csv')"
      ],
      "execution_count": null,
      "outputs": []
    },
    {
      "cell_type": "code",
      "metadata": {
        "id": "cuFdsV4Kb976",
        "colab": {
          "base_uri": "https://localhost:8080/",
          "height": 187
        },
        "outputId": "33af17b7-9670-40a2-c02f-1e49ba1c7119"
      },
      "source": [
        "data.isnull().sum()"
      ],
      "execution_count": null,
      "outputs": [
        {
          "output_type": "execute_result",
          "data": {
            "text/plain": [
              "longitude             0\n",
              "latitude              0\n",
              "housing_median_age    0\n",
              "total_rooms           0\n",
              "total_bedrooms        0\n",
              "population            0\n",
              "households            0\n",
              "median_income         0\n",
              "median_house_value    0\n",
              "dtype: int64"
            ]
          },
          "metadata": {
            "tags": []
          },
          "execution_count": 2
        }
      ]
    },
    {
      "cell_type": "code",
      "metadata": {
        "id": "se4PrNjpd0x3",
        "colab": {
          "base_uri": "https://localhost:8080/",
          "height": 187
        },
        "outputId": "ce18c8cf-d458-45f7-d900-bd98f9c016b6"
      },
      "source": [
        "data.isnull().mean()"
      ],
      "execution_count": null,
      "outputs": [
        {
          "output_type": "execute_result",
          "data": {
            "text/plain": [
              "longitude             0.0\n",
              "latitude              0.0\n",
              "housing_median_age    0.0\n",
              "total_rooms           0.0\n",
              "total_bedrooms        0.0\n",
              "population            0.0\n",
              "households            0.0\n",
              "median_income         0.0\n",
              "median_house_value    0.0\n",
              "dtype: float64"
            ]
          },
          "metadata": {
            "tags": []
          },
          "execution_count": 3
        }
      ]
    },
    {
      "cell_type": "code",
      "metadata": {
        "id": "WvZiqvgdiaWI",
        "colab": {
          "base_uri": "https://localhost:8080/",
          "height": 34
        },
        "outputId": "efba48c2-c9b0-44fa-ed95-28df73b84bf8"
      },
      "source": [
        "data['longitude'].isnull().sum()"
      ],
      "execution_count": null,
      "outputs": [
        {
          "output_type": "execute_result",
          "data": {
            "text/plain": [
              "0"
            ]
          },
          "metadata": {
            "tags": []
          },
          "execution_count": 4
        }
      ]
    },
    {
      "cell_type": "markdown",
      "metadata": {
        "id": "XVMexnGzclns"
      },
      "source": [
        "### Techniques of dealing with missing data"
      ]
    },
    {
      "cell_type": "code",
      "metadata": {
        "id": "JLJHAqtaO9ze"
      },
      "source": [],
      "execution_count": null,
      "outputs": []
    },
    {
      "cell_type": "markdown",
      "metadata": {
        "id": "jvE05oX5OaST"
      },
      "source": [
        "# Conclusion"
      ]
    },
    {
      "cell_type": "markdown",
      "metadata": {
        "id": "ntYfvBSWOdSe"
      },
      "source": [
        "# Most technique i follow is :"
      ]
    },
    {
      "cell_type": "markdown",
      "metadata": {
        "id": "s5t5POiIDeJE"
      },
      "source": [
        "# Reference\n",
        "* [Wikipedia](https://en.wikipedia.org/wiki/Missing_data)\n",
        "* [Paper1](http://www.stat.columbia.edu/~gelman/arm/missing.pdf)\n",
        "* [Medium1](https://medium.com/@Cambridge_Spark/tutorial-introduction-to-missing-data-imputation-4912b51c34eb)\n"
      ]
    }
  ]
}